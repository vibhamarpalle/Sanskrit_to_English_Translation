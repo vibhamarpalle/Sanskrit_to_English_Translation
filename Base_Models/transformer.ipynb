{
  "metadata": {
    "kernelspec": {
      "display_name": "Python 3",
      "name": "python3"
    },
    "language_info": {
      "name": "python",
      "version": "3.10.14",
      "mimetype": "text/x-python",
      "codemirror_mode": {
        "name": "ipython",
        "version": 3
      },
      "pygments_lexer": "ipython3",
      "nbconvert_exporter": "python",
      "file_extension": ".py"
    },
    "kaggle": {
      "accelerator": "nvidiaTeslaT4",
      "dataSources": [
        {
          "sourceId": 9201763,
          "sourceType": "datasetVersion",
          "datasetId": 5563352
        },
        {
          "sourceId": 9461591,
          "sourceType": "datasetVersion",
          "datasetId": 5752423
        },
        {
          "sourceId": 9487638,
          "sourceType": "datasetVersion",
          "datasetId": 5771994
        },
        {
          "sourceId": 9862224,
          "sourceType": "datasetVersion",
          "datasetId": 6052977
        }
      ],
      "dockerImageVersionId": 30762,
      "isInternetEnabled": true,
      "language": "python",
      "sourceType": "notebook",
      "isGpuEnabled": true
    },
    "colab": {
      "provenance": [],
      "gpuType": "T4",
      "include_colab_link": true
    },
    "accelerator": "GPU"
  },
  "nbformat_minor": 0,
  "nbformat": 4,
  "cells": [
    {
      "cell_type": "markdown",
      "metadata": {
        "id": "view-in-github",
        "colab_type": "text"
      },
      "source": [
        "<a href=\"https://colab.research.google.com/github/vibhamarpalle/Sanskrit_to_English_Translation/blob/main/transformer.ipynb\" target=\"_parent\"><img src=\"https://colab.research.google.com/assets/colab-badge.svg\" alt=\"Open In Colab\"/></a>"
      ]
    },
    {
      "cell_type": "code",
      "source": [
        "!pip install -q tensorflow-text tensorflow==2.17"
      ],
      "metadata": {
        "colab": {
          "base_uri": "https://localhost:8080/"
        },
        "id": "BSm3SGWn_Ob0",
        "outputId": "849d6c57-5c8b-4db3-dcaa-faaa3a2984cc"
      },
      "execution_count": null,
      "outputs": [
        {
          "output_type": "stream",
          "name": "stdout",
          "text": [
            "\u001b[2K   \u001b[90m━━━━━━━━━━━━━━━━━━━━━━━━━━━━━━━━━━━━━━━━\u001b[0m \u001b[32m601.3/601.3 MB\u001b[0m \u001b[31m3.4 MB/s\u001b[0m eta \u001b[36m0:00:00\u001b[0m\n",
            "\u001b[2K   \u001b[90m━━━━━━━━━━━━━━━━━━━━━━━━━━━━━━━━━━━━━━━━\u001b[0m \u001b[32m5.2/5.2 MB\u001b[0m \u001b[31m68.4 MB/s\u001b[0m eta \u001b[36m0:00:00\u001b[0m\n",
            "\u001b[?25h"
          ]
        }
      ]
    },
    {
      "cell_type": "code",
      "source": [
        "import tensorflow as tf\n",
        "import tensorflow_text as text\n",
        "\n",
        "tokenizer_sn = text.BertTokenizer(\"Sanskrit_unique_characters.txt\")\n",
        "tokenizer_en = text.BertTokenizer(\"English_unique_characters.txt\")"
      ],
      "metadata": {
        "execution": {
          "iopub.status.busy": "2024-11-10T16:28:32.43483Z",
          "iopub.execute_input": "2024-11-10T16:28:32.435646Z",
          "iopub.status.idle": "2024-11-10T16:28:32.455637Z",
          "shell.execute_reply.started": "2024-11-10T16:28:32.435598Z",
          "shell.execute_reply": "2024-11-10T16:28:32.454714Z"
        },
        "trusted": true,
        "id": "jX-_fpeJ-WEv"
      },
      "execution_count": null,
      "outputs": []
    },
    {
      "cell_type": "code",
      "source": [
        "# import tensorflow as tf\n",
        "# from transformers import BertTokenizer\n",
        "\n",
        "# # Load the character-level tokenizers using the provided vocabulary files\n",
        "# tokenizer_sn = BertTokenizer(\"/kaggle/input/char-vocab/sanskrit_vocab.txt\", do_lower_case=False)\n",
        "# tokenizer_en = BertTokenizer(\"/kaggle/input/char-vocab/english_vocab.txt\", do_lower_case=False)\n",
        "\n",
        "# # Example Sanskrit and English sentences\n",
        "# sanskrit_sentence = 'ॐ तपः स्वाध्यायनिरतं तपस्वी वाग्विदां वरम्।'\n",
        "# english_sentence = 'Hello, how are you?'\n",
        "\n",
        "# sanskrit_tokens = list(sanskrit_sentence)\n",
        "# english_tokens = list(english_sentence)\n",
        "\n",
        "# # Convert tokens to IDs\n",
        "# sanskrit_token_ids = tokenizer_sn.convert_tokens_to_ids(sanskrit_tokens)\n",
        "# english_token_ids = tokenizer_en.convert_tokens_to_ids(english_tokens)\n",
        "\n",
        "# # Display the results\n",
        "# print(\"Sanskrit Tokens:\", sanskrit_tokens)\n",
        "# print(\"Sanskrit Token IDs:\", sanskrit_token_ids)\n",
        "\n",
        "# print(\"English Tokens:\", english_tokens)\n",
        "# print(\"English Token IDs:\", english_token_ids)\n"
      ],
      "metadata": {
        "execution": {
          "iopub.status.busy": "2024-11-10T16:28:32.457533Z",
          "iopub.execute_input": "2024-11-10T16:28:32.457931Z",
          "iopub.status.idle": "2024-11-10T16:28:32.463726Z",
          "shell.execute_reply.started": "2024-11-10T16:28:32.457884Z",
          "shell.execute_reply": "2024-11-10T16:28:32.462841Z"
        },
        "trusted": true,
        "id": "tCDloAYi-WEx"
      },
      "execution_count": null,
      "outputs": []
    },
    {
      "cell_type": "code",
      "source": [
        "import pandas as pd\n",
        "# df1=pd.read_csv('/kaggle/input/word-level/dict.csv')\n",
        "df1=pd.read_csv('/content/dict.csv')\n",
        "df1 = df1.loc[:, ~df1.columns.str.contains('^Unnamed')]\n",
        "df2=pd.read_csv('/content/correct_dict.csv')\n",
        "df=pd.concat([df1,df2],ignore_index=True)\n",
        "df=df.dropna()\n",
        "df"
      ],
      "metadata": {
        "execution": {
          "iopub.status.busy": "2024-11-10T16:28:32.464714Z",
          "iopub.execute_input": "2024-11-10T16:28:32.464991Z",
          "iopub.status.idle": "2024-11-10T16:28:32.755531Z",
          "shell.execute_reply.started": "2024-11-10T16:28:32.46496Z",
          "shell.execute_reply": "2024-11-10T16:28:32.754712Z"
        },
        "trusted": true,
        "id": "czDcWQ4G-WEy",
        "colab": {
          "base_uri": "https://localhost:8080/",
          "height": 424
        },
        "outputId": "d1b974bf-ff62-42ad-ea35-876590aa1c1d"
      },
      "execution_count": null,
      "outputs": [
        {
          "output_type": "execute_result",
          "data": {
            "text/plain": [
              "                                                  English     Sanskrit\n",
              "0                                                       I         अहम्\n",
              "1                                                      me         माम्\n",
              "2                                                     you        त्वम्\n",
              "3                                                      go         गच्छ\n",
              "4                                                    went      अगच्छत्\n",
              "...                                                   ...          ...\n",
              "110348                             offered  , came down       युयुजुह्\n",
              "110349                               you want to pierce    युयुन्क्ससि\n",
              "110350                     of those who are belligerent     युयुत्सतम्\n",
              "110351  the son of Dhrtarastra by his vaisya wife  , S...   युयुत्सुह्\n",
              "110352                           all in fighting spirit     युयुत्सुम्\n",
              "\n",
              "[110353 rows x 2 columns]"
            ],
            "text/html": [
              "\n",
              "  <div id=\"df-d2b73137-caf0-4c35-8bb7-57db8515e0ca\" class=\"colab-df-container\">\n",
              "    <div>\n",
              "<style scoped>\n",
              "    .dataframe tbody tr th:only-of-type {\n",
              "        vertical-align: middle;\n",
              "    }\n",
              "\n",
              "    .dataframe tbody tr th {\n",
              "        vertical-align: top;\n",
              "    }\n",
              "\n",
              "    .dataframe thead th {\n",
              "        text-align: right;\n",
              "    }\n",
              "</style>\n",
              "<table border=\"1\" class=\"dataframe\">\n",
              "  <thead>\n",
              "    <tr style=\"text-align: right;\">\n",
              "      <th></th>\n",
              "      <th>English</th>\n",
              "      <th>Sanskrit</th>\n",
              "    </tr>\n",
              "  </thead>\n",
              "  <tbody>\n",
              "    <tr>\n",
              "      <th>0</th>\n",
              "      <td>I</td>\n",
              "      <td>अहम्</td>\n",
              "    </tr>\n",
              "    <tr>\n",
              "      <th>1</th>\n",
              "      <td>me</td>\n",
              "      <td>माम्</td>\n",
              "    </tr>\n",
              "    <tr>\n",
              "      <th>2</th>\n",
              "      <td>you</td>\n",
              "      <td>त्वम्</td>\n",
              "    </tr>\n",
              "    <tr>\n",
              "      <th>3</th>\n",
              "      <td>go</td>\n",
              "      <td>गच्छ</td>\n",
              "    </tr>\n",
              "    <tr>\n",
              "      <th>4</th>\n",
              "      <td>went</td>\n",
              "      <td>अगच्छत्</td>\n",
              "    </tr>\n",
              "    <tr>\n",
              "      <th>...</th>\n",
              "      <td>...</td>\n",
              "      <td>...</td>\n",
              "    </tr>\n",
              "    <tr>\n",
              "      <th>110348</th>\n",
              "      <td>offered  , came down</td>\n",
              "      <td>युयुजुह्</td>\n",
              "    </tr>\n",
              "    <tr>\n",
              "      <th>110349</th>\n",
              "      <td>you want to pierce</td>\n",
              "      <td>युयुन्क्ससि</td>\n",
              "    </tr>\n",
              "    <tr>\n",
              "      <th>110350</th>\n",
              "      <td>of those who are belligerent</td>\n",
              "      <td>युयुत्सतम्</td>\n",
              "    </tr>\n",
              "    <tr>\n",
              "      <th>110351</th>\n",
              "      <td>the son of Dhrtarastra by his vaisya wife  , S...</td>\n",
              "      <td>युयुत्सुह्</td>\n",
              "    </tr>\n",
              "    <tr>\n",
              "      <th>110352</th>\n",
              "      <td>all in fighting spirit</td>\n",
              "      <td>युयुत्सुम्</td>\n",
              "    </tr>\n",
              "  </tbody>\n",
              "</table>\n",
              "<p>110353 rows × 2 columns</p>\n",
              "</div>\n",
              "    <div class=\"colab-df-buttons\">\n",
              "\n",
              "  <div class=\"colab-df-container\">\n",
              "    <button class=\"colab-df-convert\" onclick=\"convertToInteractive('df-d2b73137-caf0-4c35-8bb7-57db8515e0ca')\"\n",
              "            title=\"Convert this dataframe to an interactive table.\"\n",
              "            style=\"display:none;\">\n",
              "\n",
              "  <svg xmlns=\"http://www.w3.org/2000/svg\" height=\"24px\" viewBox=\"0 -960 960 960\">\n",
              "    <path d=\"M120-120v-720h720v720H120Zm60-500h600v-160H180v160Zm220 220h160v-160H400v160Zm0 220h160v-160H400v160ZM180-400h160v-160H180v160Zm440 0h160v-160H620v160ZM180-180h160v-160H180v160Zm440 0h160v-160H620v160Z\"/>\n",
              "  </svg>\n",
              "    </button>\n",
              "\n",
              "  <style>\n",
              "    .colab-df-container {\n",
              "      display:flex;\n",
              "      gap: 12px;\n",
              "    }\n",
              "\n",
              "    .colab-df-convert {\n",
              "      background-color: #E8F0FE;\n",
              "      border: none;\n",
              "      border-radius: 50%;\n",
              "      cursor: pointer;\n",
              "      display: none;\n",
              "      fill: #1967D2;\n",
              "      height: 32px;\n",
              "      padding: 0 0 0 0;\n",
              "      width: 32px;\n",
              "    }\n",
              "\n",
              "    .colab-df-convert:hover {\n",
              "      background-color: #E2EBFA;\n",
              "      box-shadow: 0px 1px 2px rgba(60, 64, 67, 0.3), 0px 1px 3px 1px rgba(60, 64, 67, 0.15);\n",
              "      fill: #174EA6;\n",
              "    }\n",
              "\n",
              "    .colab-df-buttons div {\n",
              "      margin-bottom: 4px;\n",
              "    }\n",
              "\n",
              "    [theme=dark] .colab-df-convert {\n",
              "      background-color: #3B4455;\n",
              "      fill: #D2E3FC;\n",
              "    }\n",
              "\n",
              "    [theme=dark] .colab-df-convert:hover {\n",
              "      background-color: #434B5C;\n",
              "      box-shadow: 0px 1px 3px 1px rgba(0, 0, 0, 0.15);\n",
              "      filter: drop-shadow(0px 1px 2px rgba(0, 0, 0, 0.3));\n",
              "      fill: #FFFFFF;\n",
              "    }\n",
              "  </style>\n",
              "\n",
              "    <script>\n",
              "      const buttonEl =\n",
              "        document.querySelector('#df-d2b73137-caf0-4c35-8bb7-57db8515e0ca button.colab-df-convert');\n",
              "      buttonEl.style.display =\n",
              "        google.colab.kernel.accessAllowed ? 'block' : 'none';\n",
              "\n",
              "      async function convertToInteractive(key) {\n",
              "        const element = document.querySelector('#df-d2b73137-caf0-4c35-8bb7-57db8515e0ca');\n",
              "        const dataTable =\n",
              "          await google.colab.kernel.invokeFunction('convertToInteractive',\n",
              "                                                    [key], {});\n",
              "        if (!dataTable) return;\n",
              "\n",
              "        const docLinkHtml = 'Like what you see? Visit the ' +\n",
              "          '<a target=\"_blank\" href=https://colab.research.google.com/notebooks/data_table.ipynb>data table notebook</a>'\n",
              "          + ' to learn more about interactive tables.';\n",
              "        element.innerHTML = '';\n",
              "        dataTable['output_type'] = 'display_data';\n",
              "        await google.colab.output.renderOutput(dataTable, element);\n",
              "        const docLink = document.createElement('div');\n",
              "        docLink.innerHTML = docLinkHtml;\n",
              "        element.appendChild(docLink);\n",
              "      }\n",
              "    </script>\n",
              "  </div>\n",
              "\n",
              "\n",
              "<div id=\"df-68aa6a54-cc14-46eb-a396-929eb6a423e8\">\n",
              "  <button class=\"colab-df-quickchart\" onclick=\"quickchart('df-68aa6a54-cc14-46eb-a396-929eb6a423e8')\"\n",
              "            title=\"Suggest charts\"\n",
              "            style=\"display:none;\">\n",
              "\n",
              "<svg xmlns=\"http://www.w3.org/2000/svg\" height=\"24px\"viewBox=\"0 0 24 24\"\n",
              "     width=\"24px\">\n",
              "    <g>\n",
              "        <path d=\"M19 3H5c-1.1 0-2 .9-2 2v14c0 1.1.9 2 2 2h14c1.1 0 2-.9 2-2V5c0-1.1-.9-2-2-2zM9 17H7v-7h2v7zm4 0h-2V7h2v10zm4 0h-2v-4h2v4z\"/>\n",
              "    </g>\n",
              "</svg>\n",
              "  </button>\n",
              "\n",
              "<style>\n",
              "  .colab-df-quickchart {\n",
              "      --bg-color: #E8F0FE;\n",
              "      --fill-color: #1967D2;\n",
              "      --hover-bg-color: #E2EBFA;\n",
              "      --hover-fill-color: #174EA6;\n",
              "      --disabled-fill-color: #AAA;\n",
              "      --disabled-bg-color: #DDD;\n",
              "  }\n",
              "\n",
              "  [theme=dark] .colab-df-quickchart {\n",
              "      --bg-color: #3B4455;\n",
              "      --fill-color: #D2E3FC;\n",
              "      --hover-bg-color: #434B5C;\n",
              "      --hover-fill-color: #FFFFFF;\n",
              "      --disabled-bg-color: #3B4455;\n",
              "      --disabled-fill-color: #666;\n",
              "  }\n",
              "\n",
              "  .colab-df-quickchart {\n",
              "    background-color: var(--bg-color);\n",
              "    border: none;\n",
              "    border-radius: 50%;\n",
              "    cursor: pointer;\n",
              "    display: none;\n",
              "    fill: var(--fill-color);\n",
              "    height: 32px;\n",
              "    padding: 0;\n",
              "    width: 32px;\n",
              "  }\n",
              "\n",
              "  .colab-df-quickchart:hover {\n",
              "    background-color: var(--hover-bg-color);\n",
              "    box-shadow: 0 1px 2px rgba(60, 64, 67, 0.3), 0 1px 3px 1px rgba(60, 64, 67, 0.15);\n",
              "    fill: var(--button-hover-fill-color);\n",
              "  }\n",
              "\n",
              "  .colab-df-quickchart-complete:disabled,\n",
              "  .colab-df-quickchart-complete:disabled:hover {\n",
              "    background-color: var(--disabled-bg-color);\n",
              "    fill: var(--disabled-fill-color);\n",
              "    box-shadow: none;\n",
              "  }\n",
              "\n",
              "  .colab-df-spinner {\n",
              "    border: 2px solid var(--fill-color);\n",
              "    border-color: transparent;\n",
              "    border-bottom-color: var(--fill-color);\n",
              "    animation:\n",
              "      spin 1s steps(1) infinite;\n",
              "  }\n",
              "\n",
              "  @keyframes spin {\n",
              "    0% {\n",
              "      border-color: transparent;\n",
              "      border-bottom-color: var(--fill-color);\n",
              "      border-left-color: var(--fill-color);\n",
              "    }\n",
              "    20% {\n",
              "      border-color: transparent;\n",
              "      border-left-color: var(--fill-color);\n",
              "      border-top-color: var(--fill-color);\n",
              "    }\n",
              "    30% {\n",
              "      border-color: transparent;\n",
              "      border-left-color: var(--fill-color);\n",
              "      border-top-color: var(--fill-color);\n",
              "      border-right-color: var(--fill-color);\n",
              "    }\n",
              "    40% {\n",
              "      border-color: transparent;\n",
              "      border-right-color: var(--fill-color);\n",
              "      border-top-color: var(--fill-color);\n",
              "    }\n",
              "    60% {\n",
              "      border-color: transparent;\n",
              "      border-right-color: var(--fill-color);\n",
              "    }\n",
              "    80% {\n",
              "      border-color: transparent;\n",
              "      border-right-color: var(--fill-color);\n",
              "      border-bottom-color: var(--fill-color);\n",
              "    }\n",
              "    90% {\n",
              "      border-color: transparent;\n",
              "      border-bottom-color: var(--fill-color);\n",
              "    }\n",
              "  }\n",
              "</style>\n",
              "\n",
              "  <script>\n",
              "    async function quickchart(key) {\n",
              "      const quickchartButtonEl =\n",
              "        document.querySelector('#' + key + ' button');\n",
              "      quickchartButtonEl.disabled = true;  // To prevent multiple clicks.\n",
              "      quickchartButtonEl.classList.add('colab-df-spinner');\n",
              "      try {\n",
              "        const charts = await google.colab.kernel.invokeFunction(\n",
              "            'suggestCharts', [key], {});\n",
              "      } catch (error) {\n",
              "        console.error('Error during call to suggestCharts:', error);\n",
              "      }\n",
              "      quickchartButtonEl.classList.remove('colab-df-spinner');\n",
              "      quickchartButtonEl.classList.add('colab-df-quickchart-complete');\n",
              "    }\n",
              "    (() => {\n",
              "      let quickchartButtonEl =\n",
              "        document.querySelector('#df-68aa6a54-cc14-46eb-a396-929eb6a423e8 button');\n",
              "      quickchartButtonEl.style.display =\n",
              "        google.colab.kernel.accessAllowed ? 'block' : 'none';\n",
              "    })();\n",
              "  </script>\n",
              "</div>\n",
              "\n",
              "  <div id=\"id_dcae1043-c7e9-41c1-864c-961dfd1679ab\">\n",
              "    <style>\n",
              "      .colab-df-generate {\n",
              "        background-color: #E8F0FE;\n",
              "        border: none;\n",
              "        border-radius: 50%;\n",
              "        cursor: pointer;\n",
              "        display: none;\n",
              "        fill: #1967D2;\n",
              "        height: 32px;\n",
              "        padding: 0 0 0 0;\n",
              "        width: 32px;\n",
              "      }\n",
              "\n",
              "      .colab-df-generate:hover {\n",
              "        background-color: #E2EBFA;\n",
              "        box-shadow: 0px 1px 2px rgba(60, 64, 67, 0.3), 0px 1px 3px 1px rgba(60, 64, 67, 0.15);\n",
              "        fill: #174EA6;\n",
              "      }\n",
              "\n",
              "      [theme=dark] .colab-df-generate {\n",
              "        background-color: #3B4455;\n",
              "        fill: #D2E3FC;\n",
              "      }\n",
              "\n",
              "      [theme=dark] .colab-df-generate:hover {\n",
              "        background-color: #434B5C;\n",
              "        box-shadow: 0px 1px 3px 1px rgba(0, 0, 0, 0.15);\n",
              "        filter: drop-shadow(0px 1px 2px rgba(0, 0, 0, 0.3));\n",
              "        fill: #FFFFFF;\n",
              "      }\n",
              "    </style>\n",
              "    <button class=\"colab-df-generate\" onclick=\"generateWithVariable('df')\"\n",
              "            title=\"Generate code using this dataframe.\"\n",
              "            style=\"display:none;\">\n",
              "\n",
              "  <svg xmlns=\"http://www.w3.org/2000/svg\" height=\"24px\"viewBox=\"0 0 24 24\"\n",
              "       width=\"24px\">\n",
              "    <path d=\"M7,19H8.4L18.45,9,17,7.55,7,17.6ZM5,21V16.75L18.45,3.32a2,2,0,0,1,2.83,0l1.4,1.43a1.91,1.91,0,0,1,.58,1.4,1.91,1.91,0,0,1-.58,1.4L9.25,21ZM18.45,9,17,7.55Zm-12,3A5.31,5.31,0,0,0,4.9,8.1,5.31,5.31,0,0,0,1,6.5,5.31,5.31,0,0,0,4.9,4.9,5.31,5.31,0,0,0,6.5,1,5.31,5.31,0,0,0,8.1,4.9,5.31,5.31,0,0,0,12,6.5,5.46,5.46,0,0,0,6.5,12Z\"/>\n",
              "  </svg>\n",
              "    </button>\n",
              "    <script>\n",
              "      (() => {\n",
              "      const buttonEl =\n",
              "        document.querySelector('#id_dcae1043-c7e9-41c1-864c-961dfd1679ab button.colab-df-generate');\n",
              "      buttonEl.style.display =\n",
              "        google.colab.kernel.accessAllowed ? 'block' : 'none';\n",
              "\n",
              "      buttonEl.onclick = () => {\n",
              "        google.colab.notebook.generateWithVariable('df');\n",
              "      }\n",
              "      })();\n",
              "    </script>\n",
              "  </div>\n",
              "\n",
              "    </div>\n",
              "  </div>\n"
            ],
            "application/vnd.google.colaboratory.intrinsic+json": {
              "type": "dataframe",
              "variable_name": "df"
            }
          },
          "metadata": {},
          "execution_count": 4
        }
      ]
    },
    {
      "cell_type": "code",
      "source": [
        "df.sample(1)"
      ],
      "metadata": {
        "colab": {
          "base_uri": "https://localhost:8080/",
          "height": 81
        },
        "id": "6K1Num4bAgKh",
        "outputId": "c8c3fb5c-a812-4127-eb4f-48d379355a6c"
      },
      "execution_count": null,
      "outputs": [
        {
          "output_type": "execute_result",
          "data": {
            "text/plain": [
              "                          English     Sanskrit\n",
              "31020  very difficult to pierce    दुर्भेद्यह्"
            ],
            "text/html": [
              "\n",
              "  <div id=\"df-341e7f71-3a5f-439a-abec-77c9baf0764a\" class=\"colab-df-container\">\n",
              "    <div>\n",
              "<style scoped>\n",
              "    .dataframe tbody tr th:only-of-type {\n",
              "        vertical-align: middle;\n",
              "    }\n",
              "\n",
              "    .dataframe tbody tr th {\n",
              "        vertical-align: top;\n",
              "    }\n",
              "\n",
              "    .dataframe thead th {\n",
              "        text-align: right;\n",
              "    }\n",
              "</style>\n",
              "<table border=\"1\" class=\"dataframe\">\n",
              "  <thead>\n",
              "    <tr style=\"text-align: right;\">\n",
              "      <th></th>\n",
              "      <th>English</th>\n",
              "      <th>Sanskrit</th>\n",
              "    </tr>\n",
              "  </thead>\n",
              "  <tbody>\n",
              "    <tr>\n",
              "      <th>31020</th>\n",
              "      <td>very difficult to pierce</td>\n",
              "      <td>दुर्भेद्यह्</td>\n",
              "    </tr>\n",
              "  </tbody>\n",
              "</table>\n",
              "</div>\n",
              "    <div class=\"colab-df-buttons\">\n",
              "\n",
              "  <div class=\"colab-df-container\">\n",
              "    <button class=\"colab-df-convert\" onclick=\"convertToInteractive('df-341e7f71-3a5f-439a-abec-77c9baf0764a')\"\n",
              "            title=\"Convert this dataframe to an interactive table.\"\n",
              "            style=\"display:none;\">\n",
              "\n",
              "  <svg xmlns=\"http://www.w3.org/2000/svg\" height=\"24px\" viewBox=\"0 -960 960 960\">\n",
              "    <path d=\"M120-120v-720h720v720H120Zm60-500h600v-160H180v160Zm220 220h160v-160H400v160Zm0 220h160v-160H400v160ZM180-400h160v-160H180v160Zm440 0h160v-160H620v160ZM180-180h160v-160H180v160Zm440 0h160v-160H620v160Z\"/>\n",
              "  </svg>\n",
              "    </button>\n",
              "\n",
              "  <style>\n",
              "    .colab-df-container {\n",
              "      display:flex;\n",
              "      gap: 12px;\n",
              "    }\n",
              "\n",
              "    .colab-df-convert {\n",
              "      background-color: #E8F0FE;\n",
              "      border: none;\n",
              "      border-radius: 50%;\n",
              "      cursor: pointer;\n",
              "      display: none;\n",
              "      fill: #1967D2;\n",
              "      height: 32px;\n",
              "      padding: 0 0 0 0;\n",
              "      width: 32px;\n",
              "    }\n",
              "\n",
              "    .colab-df-convert:hover {\n",
              "      background-color: #E2EBFA;\n",
              "      box-shadow: 0px 1px 2px rgba(60, 64, 67, 0.3), 0px 1px 3px 1px rgba(60, 64, 67, 0.15);\n",
              "      fill: #174EA6;\n",
              "    }\n",
              "\n",
              "    .colab-df-buttons div {\n",
              "      margin-bottom: 4px;\n",
              "    }\n",
              "\n",
              "    [theme=dark] .colab-df-convert {\n",
              "      background-color: #3B4455;\n",
              "      fill: #D2E3FC;\n",
              "    }\n",
              "\n",
              "    [theme=dark] .colab-df-convert:hover {\n",
              "      background-color: #434B5C;\n",
              "      box-shadow: 0px 1px 3px 1px rgba(0, 0, 0, 0.15);\n",
              "      filter: drop-shadow(0px 1px 2px rgba(0, 0, 0, 0.3));\n",
              "      fill: #FFFFFF;\n",
              "    }\n",
              "  </style>\n",
              "\n",
              "    <script>\n",
              "      const buttonEl =\n",
              "        document.querySelector('#df-341e7f71-3a5f-439a-abec-77c9baf0764a button.colab-df-convert');\n",
              "      buttonEl.style.display =\n",
              "        google.colab.kernel.accessAllowed ? 'block' : 'none';\n",
              "\n",
              "      async function convertToInteractive(key) {\n",
              "        const element = document.querySelector('#df-341e7f71-3a5f-439a-abec-77c9baf0764a');\n",
              "        const dataTable =\n",
              "          await google.colab.kernel.invokeFunction('convertToInteractive',\n",
              "                                                    [key], {});\n",
              "        if (!dataTable) return;\n",
              "\n",
              "        const docLinkHtml = 'Like what you see? Visit the ' +\n",
              "          '<a target=\"_blank\" href=https://colab.research.google.com/notebooks/data_table.ipynb>data table notebook</a>'\n",
              "          + ' to learn more about interactive tables.';\n",
              "        element.innerHTML = '';\n",
              "        dataTable['output_type'] = 'display_data';\n",
              "        await google.colab.output.renderOutput(dataTable, element);\n",
              "        const docLink = document.createElement('div');\n",
              "        docLink.innerHTML = docLinkHtml;\n",
              "        element.appendChild(docLink);\n",
              "      }\n",
              "    </script>\n",
              "  </div>\n",
              "\n",
              "\n",
              "    </div>\n",
              "  </div>\n"
            ],
            "application/vnd.google.colaboratory.intrinsic+json": {
              "type": "dataframe",
              "summary": "{\n  \"name\": \"df\",\n  \"rows\": 1,\n  \"fields\": [\n    {\n      \"column\": \"English\",\n      \"properties\": {\n        \"dtype\": \"string\",\n        \"num_unique_values\": 1,\n        \"samples\": [\n          \"very difficult to pierce  \"\n        ],\n        \"semantic_type\": \"\",\n        \"description\": \"\"\n      }\n    },\n    {\n      \"column\": \"Sanskrit\",\n      \"properties\": {\n        \"dtype\": \"string\",\n        \"num_unique_values\": 1,\n        \"samples\": [\n          \"\\u0926\\u0941\\u0930\\u094d\\u092d\\u0947\\u0926\\u094d\\u092f\\u0939\\u094d\"\n        ],\n        \"semantic_type\": \"\",\n        \"description\": \"\"\n      }\n    }\n  ]\n}"
            }
          },
          "metadata": {},
          "execution_count": 5
        }
      ]
    },
    {
      "cell_type": "code",
      "source": [
        "df['Sanskrit'].iloc[0]"
      ],
      "metadata": {
        "execution": {
          "iopub.status.busy": "2024-11-10T16:28:32.758214Z",
          "iopub.execute_input": "2024-11-10T16:28:32.758769Z",
          "iopub.status.idle": "2024-11-10T16:28:32.765305Z",
          "shell.execute_reply.started": "2024-11-10T16:28:32.75872Z",
          "shell.execute_reply": "2024-11-10T16:28:32.764282Z"
        },
        "trusted": true,
        "colab": {
          "base_uri": "https://localhost:8080/",
          "height": 35
        },
        "id": "YXwQPprl-WEz",
        "outputId": "6e0e7d76-b105-4d75-e5fb-45176bd5430a"
      },
      "execution_count": null,
      "outputs": [
        {
          "output_type": "execute_result",
          "data": {
            "text/plain": [
              "'अहम्'"
            ],
            "application/vnd.google.colaboratory.intrinsic+json": {
              "type": "string"
            }
          },
          "metadata": {},
          "execution_count": 6
        }
      ]
    },
    {
      "cell_type": "code",
      "source": [
        "def tokenize_char(s1):\n",
        "    return ' '.join(list(s1))\n",
        "print(tokenize_char('ॐ तपः स्वाध्यायनिरतं तपस्वी वाग्विदां वरम्। नारदं परिपप्रच्छ वाल्मीकिर्मुनिपुङ्गवम्॥'))"
      ],
      "metadata": {
        "execution": {
          "iopub.status.busy": "2024-11-10T16:28:32.766522Z",
          "iopub.execute_input": "2024-11-10T16:28:32.766867Z",
          "iopub.status.idle": "2024-11-10T16:28:32.77844Z",
          "shell.execute_reply.started": "2024-11-10T16:28:32.766832Z",
          "shell.execute_reply": "2024-11-10T16:28:32.777515Z"
        },
        "trusted": true,
        "id": "T5-AhUvf-WE0",
        "outputId": "0a4643d3-dddb-46e8-d2ca-9d786236c8d1",
        "colab": {
          "base_uri": "https://localhost:8080/"
        }
      },
      "execution_count": null,
      "outputs": [
        {
          "output_type": "stream",
          "name": "stdout",
          "text": [
            "ॐ   त प ः   स ् व ा ध ् य ा य न ि र त ं   त प स ् व ी   व ा ग ् व ि द ा ं   व र म ् ।   न ा र द ं   प र ि प प ् र च ् छ   व ा ल ् म ी क ि र ् म ु न ि प ु ङ ् ग व म ् ॥\n"
          ]
        }
      ]
    },
    {
      "cell_type": "code",
      "source": [],
      "metadata": {
        "id": "cY6q3KTG-WE0"
      },
      "execution_count": null,
      "outputs": []
    },
    {
      "cell_type": "code",
      "source": [
        "df['Sanskrit']=df['Sanskrit'].apply(tokenize_char)\n",
        "df['English']=df['English'].apply(tokenize_char)"
      ],
      "metadata": {
        "execution": {
          "iopub.status.busy": "2024-11-10T16:28:32.779376Z",
          "iopub.execute_input": "2024-11-10T16:28:32.779684Z",
          "iopub.status.idle": "2024-11-10T16:28:33.172326Z",
          "shell.execute_reply.started": "2024-11-10T16:28:32.779653Z",
          "shell.execute_reply": "2024-11-10T16:28:33.171478Z"
        },
        "trusted": true,
        "id": "Inregfne-WE0"
      },
      "execution_count": null,
      "outputs": []
    },
    {
      "cell_type": "code",
      "source": [
        "df['Sanskrit'].iloc[0]"
      ],
      "metadata": {
        "execution": {
          "iopub.status.busy": "2024-11-10T16:28:33.173439Z",
          "iopub.execute_input": "2024-11-10T16:28:33.173796Z",
          "iopub.status.idle": "2024-11-10T16:28:33.180335Z",
          "shell.execute_reply.started": "2024-11-10T16:28:33.173761Z",
          "shell.execute_reply": "2024-11-10T16:28:33.179223Z"
        },
        "trusted": true,
        "id": "C4XOheOg-WE0",
        "outputId": "59c4c2d2-c6f9-46d6-ee87-09fd6e99641f",
        "colab": {
          "base_uri": "https://localhost:8080/",
          "height": 35
        }
      },
      "execution_count": null,
      "outputs": [
        {
          "output_type": "execute_result",
          "data": {
            "text/plain": [
              "'अ ह म ्'"
            ],
            "application/vnd.google.colaboratory.intrinsic+json": {
              "type": "string"
            }
          },
          "metadata": {},
          "execution_count": 9
        }
      ]
    },
    {
      "cell_type": "code",
      "source": [
        "sanskrit_sentences = df['Sanskrit'].tolist()\n",
        "english_sentences = df['English'].tolist()"
      ],
      "metadata": {
        "execution": {
          "iopub.status.busy": "2024-11-10T16:28:33.181646Z",
          "iopub.execute_input": "2024-11-10T16:28:33.181985Z",
          "iopub.status.idle": "2024-11-10T16:28:33.198339Z",
          "shell.execute_reply.started": "2024-11-10T16:28:33.181953Z",
          "shell.execute_reply": "2024-11-10T16:28:33.197551Z"
        },
        "trusted": true,
        "id": "7dL3CwoU-WE1"
      },
      "execution_count": null,
      "outputs": []
    },
    {
      "cell_type": "code",
      "source": [
        "df['Sanskrit'].iloc[0]"
      ],
      "metadata": {
        "execution": {
          "iopub.status.busy": "2024-11-10T16:28:33.199673Z",
          "iopub.execute_input": "2024-11-10T16:28:33.200405Z",
          "iopub.status.idle": "2024-11-10T16:28:33.211961Z",
          "shell.execute_reply.started": "2024-11-10T16:28:33.200358Z",
          "shell.execute_reply": "2024-11-10T16:28:33.211136Z"
        },
        "trusted": true,
        "id": "kRw89753-WE1",
        "outputId": "c04ab96c-b19a-43ca-c3ef-8d6562609a82",
        "colab": {
          "base_uri": "https://localhost:8080/",
          "height": 35
        }
      },
      "execution_count": null,
      "outputs": [
        {
          "output_type": "execute_result",
          "data": {
            "text/plain": [
              "'अ ह म ्'"
            ],
            "application/vnd.google.colaboratory.intrinsic+json": {
              "type": "string"
            }
          },
          "metadata": {},
          "execution_count": 11
        }
      ]
    },
    {
      "cell_type": "code",
      "source": [
        "sanskrit_sentences[0]"
      ],
      "metadata": {
        "execution": {
          "iopub.status.busy": "2024-11-10T16:28:33.21542Z",
          "iopub.execute_input": "2024-11-10T16:28:33.215735Z",
          "iopub.status.idle": "2024-11-10T16:28:33.224017Z",
          "shell.execute_reply.started": "2024-11-10T16:28:33.215688Z",
          "shell.execute_reply": "2024-11-10T16:28:33.223166Z"
        },
        "trusted": true,
        "id": "SXZX3tHy-WE1",
        "outputId": "d262cf19-aab9-4094-e24d-94a1d868ce2a",
        "colab": {
          "base_uri": "https://localhost:8080/",
          "height": 35
        }
      },
      "execution_count": null,
      "outputs": [
        {
          "output_type": "execute_result",
          "data": {
            "text/plain": [
              "'अ ह म ्'"
            ],
            "application/vnd.google.colaboratory.intrinsic+json": {
              "type": "string"
            }
          },
          "metadata": {},
          "execution_count": 12
        }
      ]
    },
    {
      "cell_type": "code",
      "source": [
        "sanskrit_sentences[:10]"
      ],
      "metadata": {
        "execution": {
          "iopub.status.busy": "2024-11-10T16:28:33.22518Z",
          "iopub.execute_input": "2024-11-10T16:28:33.225498Z",
          "iopub.status.idle": "2024-11-10T16:28:33.233604Z",
          "shell.execute_reply.started": "2024-11-10T16:28:33.22544Z",
          "shell.execute_reply": "2024-11-10T16:28:33.232628Z"
        },
        "trusted": true,
        "id": "LhcT3n99-WE1",
        "outputId": "32b5bbbb-5555-4766-d59b-c8a0bfcb23ca",
        "colab": {
          "base_uri": "https://localhost:8080/"
        }
      },
      "execution_count": null,
      "outputs": [
        {
          "output_type": "execute_result",
          "data": {
            "text/plain": [
              "['अ ह म ्',\n",
              " 'म ा म ्',\n",
              " 'त ् व म ्',\n",
              " 'ग च ् छ',\n",
              " 'अ ग च ् छ त ्',\n",
              " 'स ः',\n",
              " 'स ा',\n",
              " 'त त ्',\n",
              " 'व य म ्',\n",
              " 'त े']"
            ]
          },
          "metadata": {},
          "execution_count": 13
        }
      ]
    },
    {
      "cell_type": "code",
      "source": [
        "english_sentences[:10]"
      ],
      "metadata": {
        "execution": {
          "iopub.status.busy": "2024-11-10T16:28:33.234675Z",
          "iopub.execute_input": "2024-11-10T16:28:33.234976Z",
          "iopub.status.idle": "2024-11-10T16:28:33.247055Z",
          "shell.execute_reply.started": "2024-11-10T16:28:33.234944Z",
          "shell.execute_reply": "2024-11-10T16:28:33.246144Z"
        },
        "trusted": true,
        "id": "t4jFojkY-WE2",
        "outputId": "85023a74-f2b1-4fb2-e9ad-7215f7294f2d",
        "colab": {
          "base_uri": "https://localhost:8080/"
        }
      },
      "execution_count": null,
      "outputs": [
        {
          "output_type": "execute_result",
          "data": {
            "text/plain": [
              "['I',\n",
              " 'm e',\n",
              " 'y o u',\n",
              " 'g o',\n",
              " 'w e n t',\n",
              " 'h e',\n",
              " 's h e',\n",
              " 'i t',\n",
              " 'w e',\n",
              " 't h e y']"
            ]
          },
          "metadata": {},
          "execution_count": 14
        }
      ]
    },
    {
      "cell_type": "code",
      "source": [
        "tokenized_sanskrit = tokenizer_sn.tokenize(sanskrit_sentences)\n",
        "tokenized_english = tokenizer_en.tokenize(english_sentences)"
      ],
      "metadata": {
        "execution": {
          "iopub.status.busy": "2024-11-10T16:28:33.248515Z",
          "iopub.execute_input": "2024-11-10T16:28:33.248951Z",
          "iopub.status.idle": "2024-11-10T16:28:39.548882Z",
          "shell.execute_reply.started": "2024-11-10T16:28:33.248889Z",
          "shell.execute_reply": "2024-11-10T16:28:39.548036Z"
        },
        "trusted": true,
        "id": "0clixhSu-WE2"
      },
      "execution_count": null,
      "outputs": []
    },
    {
      "cell_type": "code",
      "source": [
        "tokenized_sanskrit[1]"
      ],
      "metadata": {
        "execution": {
          "iopub.status.busy": "2024-11-10T16:28:39.550029Z",
          "iopub.execute_input": "2024-11-10T16:28:39.550326Z",
          "iopub.status.idle": "2024-11-10T16:28:39.567861Z",
          "shell.execute_reply.started": "2024-11-10T16:28:39.550296Z",
          "shell.execute_reply": "2024-11-10T16:28:39.566934Z"
        },
        "trusted": true,
        "id": "Jc6FbfCi-WE2",
        "outputId": "8e500ab0-32ff-4c35-d786-13f70a3d3132",
        "colab": {
          "base_uri": "https://localhost:8080/"
        }
      },
      "execution_count": null,
      "outputs": [
        {
          "output_type": "execute_result",
          "data": {
            "text/plain": [
              "<tf.RaggedTensor [[46],\n",
              " [56],\n",
              " [46],\n",
              " [67]]>"
            ]
          },
          "metadata": {},
          "execution_count": 16
        }
      ]
    },
    {
      "cell_type": "code",
      "source": [
        "type(tf.shape(tokenized_sanskrit))"
      ],
      "metadata": {
        "execution": {
          "iopub.status.busy": "2024-11-10T16:28:39.569215Z",
          "iopub.execute_input": "2024-11-10T16:28:39.569734Z",
          "iopub.status.idle": "2024-11-10T16:28:39.577206Z",
          "shell.execute_reply.started": "2024-11-10T16:28:39.569687Z",
          "shell.execute_reply": "2024-11-10T16:28:39.576334Z"
        },
        "trusted": true,
        "id": "sUMmKH0E-WE2",
        "outputId": "cb0deb5f-b0ec-4881-a996-a6bdd36828ad",
        "colab": {
          "base_uri": "https://localhost:8080/",
          "height": 204
        }
      },
      "execution_count": null,
      "outputs": [
        {
          "output_type": "execute_result",
          "data": {
            "text/plain": [
              "tensorflow.python.ops.ragged.dynamic_ragged_shape.DynamicRaggedShape"
            ],
            "text/html": [
              "<div style=\"max-width:800px; border: 1px solid var(--colab-border-color);\"><style>\n",
              "      pre.function-repr-contents {\n",
              "        overflow-x: auto;\n",
              "        padding: 8px 12px;\n",
              "        max-height: 500px;\n",
              "      }\n",
              "\n",
              "      pre.function-repr-contents.function-repr-contents-collapsed {\n",
              "        cursor: pointer;\n",
              "        max-height: 100px;\n",
              "      }\n",
              "    </style>\n",
              "    <pre style=\"white-space: initial; background:\n",
              "         var(--colab-secondary-surface-color); padding: 8px 12px;\n",
              "         border-bottom: 1px solid var(--colab-border-color);\"><b>tensorflow.python.ops.ragged.dynamic_ragged_shape.DynamicRaggedShape</b><br/>def __init__(row_partitions: Sequence[RowPartition], inner_shape: core.TensorLike, dtype: Optional[dtypes.DType]=None, validate: bool=False, static_inner_shape: ...=None)</pre><pre class=\"function-repr-contents function-repr-contents-collapsed\" style=\"\"><a class=\"filepath\" style=\"display:none\" href=\"#\">/usr/local/lib/python3.10/dist-packages/tensorflow/python/ops/ragged/dynamic_ragged_shape.py</a>The shape of a ragged or dense tensor.\n",
              "\n",
              "Ragged shapes are encoded using two fields:\n",
              "\n",
              "* `inner_shape`: An integer vector giving the shape of a dense tensor.\n",
              "* `row_partitions`: A list of `RowPartition` objects, describing how\n",
              "  that flat shape should be partitioned to add ragged axes.\n",
              "\n",
              "If a DynamicRaggedShape is the shape of a RaggedTensor rt, then:\n",
              "1. row_partitions = rt._nested_row_partitions\n",
              "   (and thus len(row_partitions) &gt; 0)\n",
              "2. inner_shape is the shape of rt.flat_values\n",
              "\n",
              "If a DynamicRaggedShape is the shape of a dense tensor t, then:\n",
              "1. row_partitions = []\n",
              "2. inner_shape is the shape of t.\n",
              "\n",
              "Examples:\n",
              "\n",
              "The following table gives a few examples (where `RP(lengths)` is short\n",
              "for `RowPartition.from_lengths(lengths)`):\n",
              "\n",
              "Row Partitions              | Inner Shape  | Example Tensor\n",
              "--------------------------- | ------------ | ----------------------------\n",
              "[]                          | [2, 3]       | `[[1, 2, 3], [4, 5, 6]]`\n",
              "[RP([2, 0, 3])]             | [5]          | `[[1, 2], [], [3, 4, 5]]`\n",
              "[RP([2, 1])]                | [3, 2]       | `[[[1, 2], [3, 4]], [[5, 6]]]`\n",
              "[RP([2, 1]), RP([2, 1, 2])] | [5]          | `[[[1, 2], [3]], [[4, 5]]]`</pre>\n",
              "      <script>\n",
              "      if (google.colab.kernel.accessAllowed && google.colab.files && google.colab.files.view) {\n",
              "        for (const element of document.querySelectorAll('.filepath')) {\n",
              "          element.style.display = 'block'\n",
              "          element.onclick = (event) => {\n",
              "            event.preventDefault();\n",
              "            event.stopPropagation();\n",
              "            google.colab.files.view(element.textContent, 167);\n",
              "          };\n",
              "        }\n",
              "      }\n",
              "      for (const element of document.querySelectorAll('.function-repr-contents')) {\n",
              "        element.onclick = (event) => {\n",
              "          event.preventDefault();\n",
              "          event.stopPropagation();\n",
              "          element.classList.toggle('function-repr-contents-collapsed');\n",
              "        };\n",
              "      }\n",
              "      </script>\n",
              "      </div>"
            ]
          },
          "metadata": {},
          "execution_count": 17
        }
      ]
    },
    {
      "cell_type": "code",
      "source": [
        "column_name = 'Sanskrit'\n",
        "\n",
        "# Find the word with the maximum length in the specified column\n",
        "df[column_name].dropna().loc[df[column_name].apply(len).idxmax()]"
      ],
      "metadata": {
        "execution": {
          "iopub.status.busy": "2024-11-10T16:28:39.578331Z",
          "iopub.execute_input": "2024-11-10T16:28:39.580098Z",
          "iopub.status.idle": "2024-11-10T16:28:39.663092Z",
          "shell.execute_reply.started": "2024-11-10T16:28:39.580065Z",
          "shell.execute_reply": "2024-11-10T16:28:39.662248Z"
        },
        "trusted": true,
        "id": "MZA2ivCp-WE2",
        "outputId": "4726d94c-ffe5-4fd1-cb49-02c6fd01e6c7",
        "colab": {
          "base_uri": "https://localhost:8080/",
          "height": 35
        }
      },
      "execution_count": null,
      "outputs": [
        {
          "output_type": "execute_result",
          "data": {
            "text/plain": [
              "'स ् र द ् ध ,   म ै त ् र ि ,   द य ,   स न ् त ि ह ् ,   त ु स ् त ि ह ् ,   प ु स ् त ि ह ् ,   क ् र ि य ,   उ न ् न त ि ह ् ,   ब ्'"
            ],
            "application/vnd.google.colaboratory.intrinsic+json": {
              "type": "string"
            }
          },
          "metadata": {},
          "execution_count": 18
        }
      ]
    },
    {
      "cell_type": "code",
      "source": [
        "sanskrit_padded = tokenized_sanskrit.to_tensor(default_value=0)  # No specific shape; default to max length\n",
        "english_padded = tokenized_english.to_tensor(default_value=0)  # No specific shape; default to max length\n",
        "\n",
        "max_len = 50\n",
        "sanskrit_padded = tf.keras.preprocessing.sequence.pad_sequences(sanskrit_padded.numpy(), maxlen=max_len, padding='post', value=0)\n",
        "english_padded = tf.keras.preprocessing.sequence.pad_sequences(english_padded.numpy(), maxlen=max_len, padding='post', value=0)\n",
        "\n",
        "sanskrit_padded_tensor = tf.convert_to_tensor(sanskrit_padded)\n",
        "english_padded_tensor = tf.convert_to_tensor(english_padded)\n",
        "\n",
        "print(sanskrit_padded_tensor.shape)\n",
        "print(english_padded_tensor.shape)"
      ],
      "metadata": {
        "execution": {
          "iopub.status.busy": "2024-11-10T16:28:39.664313Z",
          "iopub.execute_input": "2024-11-10T16:28:39.664701Z",
          "iopub.status.idle": "2024-11-10T16:28:44.430895Z",
          "shell.execute_reply.started": "2024-11-10T16:28:39.66466Z",
          "shell.execute_reply": "2024-11-10T16:28:44.429815Z"
        },
        "trusted": true,
        "id": "SrFVSZ-N-WE3",
        "outputId": "6a5b35ba-5f4c-4780-f7aa-b59a3adee253",
        "colab": {
          "base_uri": "https://localhost:8080/"
        }
      },
      "execution_count": null,
      "outputs": [
        {
          "output_type": "stream",
          "name": "stdout",
          "text": [
            "(110353, 50, 1)\n",
            "(110353, 50, 1)\n"
          ]
        }
      ]
    },
    {
      "cell_type": "code",
      "source": [
        "import numpy as np\n",
        "\n",
        "def positional_encoding(max_len, embedding_dim):\n",
        "    pos_enc = np.zeros((max_len, embedding_dim))\n",
        "    for pos in range(max_len):\n",
        "        for i in range(0, embedding_dim, 2):\n",
        "            pos_enc[pos, i] = np.sin(pos / (10000 ** (i / embedding_dim)))\n",
        "            pos_enc[pos, i + 1] = np.cos(pos / (10000 ** ((i + 1) / embedding_dim)))\n",
        "    return pos_enc\n"
      ],
      "metadata": {
        "execution": {
          "iopub.status.busy": "2024-11-10T16:28:44.432053Z",
          "iopub.execute_input": "2024-11-10T16:28:44.432378Z",
          "iopub.status.idle": "2024-11-10T16:28:44.438239Z",
          "shell.execute_reply.started": "2024-11-10T16:28:44.432343Z",
          "shell.execute_reply": "2024-11-10T16:28:44.437395Z"
        },
        "trusted": true,
        "id": "Hd061jHW-WE3"
      },
      "execution_count": null,
      "outputs": []
    },
    {
      "cell_type": "code",
      "source": [
        "from tensorflow.keras.layers import Input, Embedding, Dense, MultiHeadAttention, LayerNormalization, Dropout\n",
        "\n",
        "def transformer_encoder(vocab_size, embedding_dim, num_heads, ff_dim, max_len, dropout_rate=0.1):\n",
        "    input_seq = Input(shape=(max_len,))\n",
        "    embedding = Embedding(vocab_size, embedding_dim)(input_seq)\n",
        "#     pos_encoding = positional_encoding(max_len, embedding_dim)\n",
        "#     embedding += pos_encoding\n",
        "\n",
        "    attn_output = MultiHeadAttention(num_heads=num_heads, key_dim=embedding_dim)(embedding, embedding)\n",
        "    attn_output = Dropout(dropout_rate)(attn_output)\n",
        "    attn_output = LayerNormalization(epsilon=1e-6)(attn_output + embedding)\n",
        "\n",
        "    ff_output = Dense(ff_dim, activation='sigmoid')(attn_output)\n",
        "    ff_output = Dropout(dropout_rate)(ff_output)\n",
        "    ff_output = Dense(embedding_dim)(ff_output)\n",
        "    ff_output = LayerNormalization(epsilon=1e-6)(ff_output + attn_output)\n",
        "\n",
        "    return tf.keras.Model(inputs=input_seq, outputs=ff_output)\n",
        "\n",
        "\n",
        "def transformer_decoder(vocab_size, embedding_dim, num_heads, ff_dim, max_len, dropout_rate=0.1):\n",
        "    input_seq = Input(shape=(max_len,))\n",
        "    encoder_output = Input(shape=(max_len, embedding_dim))\n",
        "\n",
        "    embedding = Embedding(vocab_size, embedding_dim)(input_seq)\n",
        "#     pos_encoding = positional_encoding(max_len, embedding_dim)\n",
        "#     embedding += pos_encoding\n",
        "\n",
        "    attn1 = MultiHeadAttention(num_heads=num_heads, key_dim=embedding_dim)(embedding, embedding)\n",
        "    attn1 = Dropout(dropout_rate)(attn1)\n",
        "    attn1 = LayerNormalization(epsilon=1e-6)(attn1 + embedding)\n",
        "\n",
        "    attn2 = MultiHeadAttention(num_heads=num_heads, key_dim=embedding_dim)(attn1, encoder_output)\n",
        "    attn2 = Dropout(dropout_rate)(attn2)\n",
        "    attn2 = LayerNormalization(epsilon=1e-6)(attn2 + attn1)\n",
        "\n",
        "    ff_output = Dense(ff_dim, activation='relu')(attn2)\n",
        "    ff_output = Dropout(dropout_rate)(ff_output)\n",
        "    ff_output = Dense(embedding_dim)(ff_output)\n",
        "    ff_output = LayerNormalization(epsilon=1e-6)(ff_output + attn2)\n",
        "\n",
        "    return tf.keras.Model(inputs=[input_seq, encoder_output], outputs=ff_output)"
      ],
      "metadata": {
        "execution": {
          "iopub.status.busy": "2024-11-10T16:28:44.439556Z",
          "iopub.execute_input": "2024-11-10T16:28:44.439852Z",
          "iopub.status.idle": "2024-11-10T16:28:44.452324Z",
          "shell.execute_reply.started": "2024-11-10T16:28:44.43982Z",
          "shell.execute_reply": "2024-11-10T16:28:44.451446Z"
        },
        "trusted": true,
        "id": "8U90b0pl-WE3"
      },
      "execution_count": null,
      "outputs": []
    },
    {
      "cell_type": "code",
      "source": [
        "def build_transformer(vocab_size_sn, vocab_size_en, embedding_dim, num_heads, ff_dim, max_len):\n",
        "    encoder_inputs = Input(shape=(max_len,))\n",
        "    decoder_inputs = Input(shape=(max_len,))\n",
        "\n",
        "    encoder_model = transformer_encoder(vocab_size_sn, embedding_dim, num_heads, ff_dim, max_len)\n",
        "    encoder_output = encoder_model(encoder_inputs)\n",
        "\n",
        "    decoder_model = transformer_decoder(vocab_size_en, embedding_dim, num_heads, ff_dim, max_len)\n",
        "    decoder_output = decoder_model([decoder_inputs, encoder_output])\n",
        "\n",
        "    final_output = Dense(vocab_size_en, activation='softmax')(decoder_output)\n",
        "\n",
        "    return tf.keras.Model([encoder_inputs, decoder_inputs], final_output)\n",
        "\n",
        "\n",
        "embedding_dim = 256\n",
        "num_heads = 8\n",
        "ff_dim = 512\n",
        "max_len = 50\n",
        "\n",
        "def load_vocab_size(vocab_file):\n",
        "    with open(vocab_file, 'r', encoding='utf-8') as f:\n",
        "        vocab = f.readlines()\n",
        "    return len(vocab)\n",
        "\n",
        "\n",
        "vocab_size_sn = load_vocab_size(\"English_unique_characters.txt\")  # Sanskrit vocabulary size\n",
        "vocab_size_en = load_vocab_size(\"Sanskrit_unique_characters.txt\")  # English vocabulary size"
      ],
      "metadata": {
        "execution": {
          "iopub.status.busy": "2024-11-10T16:28:44.453766Z",
          "iopub.execute_input": "2024-11-10T16:28:44.454295Z",
          "iopub.status.idle": "2024-11-10T16:28:44.468609Z",
          "shell.execute_reply.started": "2024-11-10T16:28:44.45425Z",
          "shell.execute_reply": "2024-11-10T16:28:44.467769Z"
        },
        "trusted": true,
        "id": "0cbBWVnN-WE3"
      },
      "execution_count": null,
      "outputs": []
    },
    {
      "cell_type": "code",
      "source": [
        "print(\"Max index in Sanskrit padded:\", np.max(sanskrit_padded))\n",
        "print(\"Max index in English padded:\", np.max(english_padded))\n",
        "print(\"Sanskrit vocab size:\", vocab_size_sn)\n",
        "print(\"English vocab size:\", vocab_size_en)\n",
        "\n",
        "vocab_size_sn = max(np.max(sanskrit_padded) + 1, vocab_size_sn)\n",
        "vocab_size_en = max(np.max(english_padded) + 1, vocab_size_en)\n",
        "\n",
        "print(\"Max index in Sanskrit padded:\", np.max(sanskrit_padded))\n",
        "print(\"Max index in English padded:\", np.max(english_padded))\n",
        "print(\"Sanskrit vocab size:\", vocab_size_sn)\n",
        "print(\"English vocab size:\", vocab_size_en)"
      ],
      "metadata": {
        "colab": {
          "base_uri": "https://localhost:8080/"
        },
        "id": "c39Cnhz4PPqh",
        "outputId": "0600bc53-3b52-4aae-9278-b3160cb8d30a"
      },
      "execution_count": null,
      "outputs": [
        {
          "output_type": "stream",
          "name": "stdout",
          "text": [
            "Max index in Sanskrit padded: 67\n",
            "Max index in English padded: 72\n",
            "Sanskrit vocab size: 74\n",
            "English vocab size: 69\n",
            "Max index in Sanskrit padded: 67\n",
            "Max index in English padded: 72\n",
            "Sanskrit vocab size: 74\n",
            "English vocab size: 73\n"
          ]
        }
      ]
    },
    {
      "cell_type": "code",
      "source": [
        "model = build_transformer(vocab_size_sn, vocab_size_en, embedding_dim, num_heads, ff_dim, max_len)\n",
        "model.compile(optimizer='adam', loss='sparse_categorical_crossentropy', metrics=['accuracy'])\n",
        "model.summary()\n",
        "early_stopping = tf.keras.callbacks.EarlyStopping(monitor='val_loss', patience=5, restore_best_weights=True)\n"
      ],
      "metadata": {
        "execution": {
          "iopub.status.busy": "2024-11-10T16:28:44.471675Z",
          "iopub.execute_input": "2024-11-10T16:28:44.472083Z",
          "iopub.status.idle": "2024-11-10T16:28:44.670211Z",
          "shell.execute_reply.started": "2024-11-10T16:28:44.472048Z",
          "shell.execute_reply": "2024-11-10T16:28:44.669366Z"
        },
        "trusted": true,
        "id": "EgECrAsw-WE3",
        "outputId": "378a2030-60ee-4bd0-cdb4-44c57d77c7fa",
        "colab": {
          "base_uri": "https://localhost:8080/",
          "height": 340
        }
      },
      "execution_count": null,
      "outputs": [
        {
          "output_type": "display_data",
          "data": {
            "text/plain": [
              "\u001b[1mModel: \"functional_2\"\u001b[0m\n"
            ],
            "text/html": [
              "<pre style=\"white-space:pre;overflow-x:auto;line-height:normal;font-family:Menlo,'DejaVu Sans Mono',consolas,'Courier New',monospace\"><span style=\"font-weight: bold\">Model: \"functional_2\"</span>\n",
              "</pre>\n"
            ]
          },
          "metadata": {}
        },
        {
          "output_type": "display_data",
          "data": {
            "text/plain": [
              "┏━━━━━━━━━━━━━━━━━━━━━━━━━━━┳━━━━━━━━━━━━━━━━━━━━━━━━┳━━━━━━━━━━━━━━━━┳━━━━━━━━━━━━━━━━━━━━━━━━┓\n",
              "┃\u001b[1m \u001b[0m\u001b[1mLayer (type)             \u001b[0m\u001b[1m \u001b[0m┃\u001b[1m \u001b[0m\u001b[1mOutput Shape          \u001b[0m\u001b[1m \u001b[0m┃\u001b[1m \u001b[0m\u001b[1m       Param #\u001b[0m\u001b[1m \u001b[0m┃\u001b[1m \u001b[0m\u001b[1mConnected to          \u001b[0m\u001b[1m \u001b[0m┃\n",
              "┡━━━━━━━━━━━━━━━━━━━━━━━━━━━╇━━━━━━━━━━━━━━━━━━━━━━━━╇━━━━━━━━━━━━━━━━╇━━━━━━━━━━━━━━━━━━━━━━━━┩\n",
              "│ input_layer (\u001b[38;5;33mInputLayer\u001b[0m)  │ (\u001b[38;5;45mNone\u001b[0m, \u001b[38;5;34m50\u001b[0m)             │              \u001b[38;5;34m0\u001b[0m │ -                      │\n",
              "├───────────────────────────┼────────────────────────┼────────────────┼────────────────────────┤\n",
              "│ input_layer_1             │ (\u001b[38;5;45mNone\u001b[0m, \u001b[38;5;34m50\u001b[0m)             │              \u001b[38;5;34m0\u001b[0m │ -                      │\n",
              "│ (\u001b[38;5;33mInputLayer\u001b[0m)              │                        │                │                        │\n",
              "├───────────────────────────┼────────────────────────┼────────────────┼────────────────────────┤\n",
              "│ functional (\u001b[38;5;33mFunctional\u001b[0m)   │ (\u001b[38;5;45mNone\u001b[0m, \u001b[38;5;34m50\u001b[0m, \u001b[38;5;34m256\u001b[0m)        │      \u001b[38;5;34m2,386,432\u001b[0m │ input_layer[\u001b[38;5;34m0\u001b[0m][\u001b[38;5;34m0\u001b[0m]      │\n",
              "├───────────────────────────┼────────────────────────┼────────────────┼────────────────────────┤\n",
              "│ functional_1 (\u001b[38;5;33mFunctional\u001b[0m) │ (\u001b[38;5;45mNone\u001b[0m, \u001b[38;5;34m50\u001b[0m, \u001b[38;5;34m256\u001b[0m)        │      \u001b[38;5;34m4,490,240\u001b[0m │ input_layer_1[\u001b[38;5;34m0\u001b[0m][\u001b[38;5;34m0\u001b[0m],   │\n",
              "│                           │                        │                │ functional[\u001b[38;5;34m0\u001b[0m][\u001b[38;5;34m0\u001b[0m]       │\n",
              "├───────────────────────────┼────────────────────────┼────────────────┼────────────────────────┤\n",
              "│ dense_4 (\u001b[38;5;33mDense\u001b[0m)           │ (\u001b[38;5;45mNone\u001b[0m, \u001b[38;5;34m50\u001b[0m, \u001b[38;5;34m73\u001b[0m)         │         \u001b[38;5;34m18,761\u001b[0m │ functional_1[\u001b[38;5;34m0\u001b[0m][\u001b[38;5;34m0\u001b[0m]     │\n",
              "└───────────────────────────┴────────────────────────┴────────────────┴────────────────────────┘\n"
            ],
            "text/html": [
              "<pre style=\"white-space:pre;overflow-x:auto;line-height:normal;font-family:Menlo,'DejaVu Sans Mono',consolas,'Courier New',monospace\">┏━━━━━━━━━━━━━━━━━━━━━━━━━━━┳━━━━━━━━━━━━━━━━━━━━━━━━┳━━━━━━━━━━━━━━━━┳━━━━━━━━━━━━━━━━━━━━━━━━┓\n",
              "┃<span style=\"font-weight: bold\"> Layer (type)              </span>┃<span style=\"font-weight: bold\"> Output Shape           </span>┃<span style=\"font-weight: bold\">        Param # </span>┃<span style=\"font-weight: bold\"> Connected to           </span>┃\n",
              "┡━━━━━━━━━━━━━━━━━━━━━━━━━━━╇━━━━━━━━━━━━━━━━━━━━━━━━╇━━━━━━━━━━━━━━━━╇━━━━━━━━━━━━━━━━━━━━━━━━┩\n",
              "│ input_layer (<span style=\"color: #0087ff; text-decoration-color: #0087ff\">InputLayer</span>)  │ (<span style=\"color: #00d7ff; text-decoration-color: #00d7ff\">None</span>, <span style=\"color: #00af00; text-decoration-color: #00af00\">50</span>)             │              <span style=\"color: #00af00; text-decoration-color: #00af00\">0</span> │ -                      │\n",
              "├───────────────────────────┼────────────────────────┼────────────────┼────────────────────────┤\n",
              "│ input_layer_1             │ (<span style=\"color: #00d7ff; text-decoration-color: #00d7ff\">None</span>, <span style=\"color: #00af00; text-decoration-color: #00af00\">50</span>)             │              <span style=\"color: #00af00; text-decoration-color: #00af00\">0</span> │ -                      │\n",
              "│ (<span style=\"color: #0087ff; text-decoration-color: #0087ff\">InputLayer</span>)              │                        │                │                        │\n",
              "├───────────────────────────┼────────────────────────┼────────────────┼────────────────────────┤\n",
              "│ functional (<span style=\"color: #0087ff; text-decoration-color: #0087ff\">Functional</span>)   │ (<span style=\"color: #00d7ff; text-decoration-color: #00d7ff\">None</span>, <span style=\"color: #00af00; text-decoration-color: #00af00\">50</span>, <span style=\"color: #00af00; text-decoration-color: #00af00\">256</span>)        │      <span style=\"color: #00af00; text-decoration-color: #00af00\">2,386,432</span> │ input_layer[<span style=\"color: #00af00; text-decoration-color: #00af00\">0</span>][<span style=\"color: #00af00; text-decoration-color: #00af00\">0</span>]      │\n",
              "├───────────────────────────┼────────────────────────┼────────────────┼────────────────────────┤\n",
              "│ functional_1 (<span style=\"color: #0087ff; text-decoration-color: #0087ff\">Functional</span>) │ (<span style=\"color: #00d7ff; text-decoration-color: #00d7ff\">None</span>, <span style=\"color: #00af00; text-decoration-color: #00af00\">50</span>, <span style=\"color: #00af00; text-decoration-color: #00af00\">256</span>)        │      <span style=\"color: #00af00; text-decoration-color: #00af00\">4,490,240</span> │ input_layer_1[<span style=\"color: #00af00; text-decoration-color: #00af00\">0</span>][<span style=\"color: #00af00; text-decoration-color: #00af00\">0</span>],   │\n",
              "│                           │                        │                │ functional[<span style=\"color: #00af00; text-decoration-color: #00af00\">0</span>][<span style=\"color: #00af00; text-decoration-color: #00af00\">0</span>]       │\n",
              "├───────────────────────────┼────────────────────────┼────────────────┼────────────────────────┤\n",
              "│ dense_4 (<span style=\"color: #0087ff; text-decoration-color: #0087ff\">Dense</span>)           │ (<span style=\"color: #00d7ff; text-decoration-color: #00d7ff\">None</span>, <span style=\"color: #00af00; text-decoration-color: #00af00\">50</span>, <span style=\"color: #00af00; text-decoration-color: #00af00\">73</span>)         │         <span style=\"color: #00af00; text-decoration-color: #00af00\">18,761</span> │ functional_1[<span style=\"color: #00af00; text-decoration-color: #00af00\">0</span>][<span style=\"color: #00af00; text-decoration-color: #00af00\">0</span>]     │\n",
              "└───────────────────────────┴────────────────────────┴────────────────┴────────────────────────┘\n",
              "</pre>\n"
            ]
          },
          "metadata": {}
        },
        {
          "output_type": "display_data",
          "data": {
            "text/plain": [
              "\u001b[1m Total params: \u001b[0m\u001b[38;5;34m6,895,433\u001b[0m (26.30 MB)\n"
            ],
            "text/html": [
              "<pre style=\"white-space:pre;overflow-x:auto;line-height:normal;font-family:Menlo,'DejaVu Sans Mono',consolas,'Courier New',monospace\"><span style=\"font-weight: bold\"> Total params: </span><span style=\"color: #00af00; text-decoration-color: #00af00\">6,895,433</span> (26.30 MB)\n",
              "</pre>\n"
            ]
          },
          "metadata": {}
        },
        {
          "output_type": "display_data",
          "data": {
            "text/plain": [
              "\u001b[1m Trainable params: \u001b[0m\u001b[38;5;34m6,895,433\u001b[0m (26.30 MB)\n"
            ],
            "text/html": [
              "<pre style=\"white-space:pre;overflow-x:auto;line-height:normal;font-family:Menlo,'DejaVu Sans Mono',consolas,'Courier New',monospace\"><span style=\"font-weight: bold\"> Trainable params: </span><span style=\"color: #00af00; text-decoration-color: #00af00\">6,895,433</span> (26.30 MB)\n",
              "</pre>\n"
            ]
          },
          "metadata": {}
        },
        {
          "output_type": "display_data",
          "data": {
            "text/plain": [
              "\u001b[1m Non-trainable params: \u001b[0m\u001b[38;5;34m0\u001b[0m (0.00 B)\n"
            ],
            "text/html": [
              "<pre style=\"white-space:pre;overflow-x:auto;line-height:normal;font-family:Menlo,'DejaVu Sans Mono',consolas,'Courier New',monospace\"><span style=\"font-weight: bold\"> Non-trainable params: </span><span style=\"color: #00af00; text-decoration-color: #00af00\">0</span> (0.00 B)\n",
              "</pre>\n"
            ]
          },
          "metadata": {}
        }
      ]
    },
    {
      "cell_type": "code",
      "source": [
        "batch_size = 64\n",
        "epochs = 3\n",
        "\n",
        "train_size = int(0.8 * len(sanskrit_padded))\n",
        "x_train_sn = sanskrit_padded[:train_size]\n",
        "x_val_sn = sanskrit_padded[train_size:]\n",
        "x_train_en = english_padded[:train_size]\n",
        "x_val_en = english_padded[train_size:]\n",
        "\n",
        "history = model.fit([x_train_sn, x_train_en], x_train_en,\n",
        "                    validation_data=([x_val_sn, x_val_en], x_val_en),\n",
        "                    batch_size=batch_size,\n",
        "                    epochs=epochs)"
      ],
      "metadata": {
        "execution": {
          "iopub.status.busy": "2024-11-10T16:54:37.877729Z",
          "iopub.execute_input": "2024-11-10T16:54:37.878181Z",
          "iopub.status.idle": "2024-11-10T17:06:13.480956Z",
          "shell.execute_reply.started": "2024-11-10T16:54:37.878141Z",
          "shell.execute_reply": "2024-11-10T17:06:13.479841Z"
        },
        "trusted": true,
        "id": "v3QV8qeI-WE4",
        "outputId": "61cd963b-97c8-4884-d312-d27bd4f3e713",
        "colab": {
          "base_uri": "https://localhost:8080/"
        }
      },
      "execution_count": null,
      "outputs": [
        {
          "output_type": "stream",
          "name": "stdout",
          "text": [
            "Epoch 1/3\n",
            "\u001b[1m1380/1380\u001b[0m \u001b[32m━━━━━━━━━━━━━━━━━━━━\u001b[0m\u001b[37m\u001b[0m \u001b[1m112s\u001b[0m 68ms/step - accuracy: 0.9943 - loss: 0.0310 - val_accuracy: 1.0000 - val_loss: 8.3446e-07\n",
            "Epoch 2/3\n",
            "\u001b[1m1380/1380\u001b[0m \u001b[32m━━━━━━━━━━━━━━━━━━━━\u001b[0m\u001b[37m\u001b[0m \u001b[1m124s\u001b[0m 64ms/step - accuracy: 1.0000 - loss: 8.6202e-06 - val_accuracy: 1.0000 - val_loss: 1.9312e-05\n",
            "Epoch 3/3\n",
            "\u001b[1m1380/1380\u001b[0m \u001b[32m━━━━━━━━━━━━━━━━━━━━\u001b[0m\u001b[37m\u001b[0m \u001b[1m139s\u001b[0m 62ms/step - accuracy: 1.0000 - loss: 4.3911e-04 - val_accuracy: 1.0000 - val_loss: 5.9605e-07\n"
          ]
        }
      ]
    },
    {
      "cell_type": "code",
      "source": [
        "from tensorflow.keras.models import load_model"
      ],
      "metadata": {
        "execution": {
          "iopub.status.busy": "2024-11-10T16:40:38.587586Z",
          "iopub.execute_input": "2024-11-10T16:40:38.587911Z",
          "iopub.status.idle": "2024-11-10T16:40:38.598888Z",
          "shell.execute_reply.started": "2024-11-10T16:40:38.587876Z",
          "shell.execute_reply": "2024-11-10T16:40:38.59795Z"
        },
        "trusted": true,
        "id": "m-B7DdAI-WE4"
      },
      "execution_count": null,
      "outputs": []
    },
    {
      "cell_type": "code",
      "source": [
        "# m1=load_model('/kaggle/working/transformer_gita.h5')"
      ],
      "metadata": {
        "execution": {
          "iopub.status.busy": "2024-11-10T16:40:38.600312Z",
          "iopub.execute_input": "2024-11-10T16:40:38.600738Z",
          "iopub.status.idle": "2024-11-10T16:40:38.606599Z",
          "shell.execute_reply.started": "2024-11-10T16:40:38.600695Z",
          "shell.execute_reply": "2024-11-10T16:40:38.60573Z"
        },
        "trusted": true,
        "id": "8E7SnAuB-WE4"
      },
      "execution_count": null,
      "outputs": []
    },
    {
      "cell_type": "code",
      "source": [
        "model.save('transformer_gita.h5')"
      ],
      "metadata": {
        "execution": {
          "iopub.status.busy": "2024-11-10T16:40:38.60776Z",
          "iopub.execute_input": "2024-11-10T16:40:38.608084Z",
          "iopub.status.idle": "2024-11-10T16:40:38.863885Z",
          "shell.execute_reply.started": "2024-11-10T16:40:38.608051Z",
          "shell.execute_reply": "2024-11-10T16:40:38.863037Z"
        },
        "trusted": true,
        "id": "1pSX-H2J-WE4",
        "colab": {
          "base_uri": "https://localhost:8080/"
        },
        "outputId": "c8866429-76b8-4a08-bbce-cf606878e4c3"
      },
      "execution_count": null,
      "outputs": [
        {
          "output_type": "stream",
          "name": "stderr",
          "text": [
            "WARNING:absl:You are saving your model as an HDF5 file via `model.save()` or `keras.saving.save_model(model)`. This file format is considered legacy. We recommend using instead the native Keras format, e.g. `model.save('my_model.keras')` or `keras.saving.save_model(model, 'my_model.keras')`. \n"
          ]
        }
      ]
    },
    {
      "cell_type": "code",
      "source": [
        "# model.save('p1.h5')"
      ],
      "metadata": {
        "execution": {
          "iopub.status.busy": "2024-11-10T16:40:38.865305Z",
          "iopub.execute_input": "2024-11-10T16:40:38.865732Z",
          "iopub.status.idle": "2024-11-10T16:40:38.870189Z",
          "shell.execute_reply.started": "2024-11-10T16:40:38.865686Z",
          "shell.execute_reply": "2024-11-10T16:40:38.869272Z"
        },
        "trusted": true,
        "id": "XqBMjWtt-WE4"
      },
      "execution_count": null,
      "outputs": []
    },
    {
      "cell_type": "code",
      "source": [
        "import numpy as np\n",
        "import tensorflow as tf\n",
        "\n",
        "def predict_translation(input_sentence, tokenizer_sn, tokenizer_en, model, max_len=50):\n",
        "    tokenized_input = tokenizer_sn.tokenize([input_sentence])\n",
        "    print(tokenized_input)\n",
        "    input_padded = tf.keras.preprocessing.sequence.pad_sequences(\n",
        "        tokenized_input.to_tensor(default_value=0).numpy(),\n",
        "        maxlen=max_len,\n",
        "        padding='post',\n",
        "        value=0\n",
        "    )\n",
        "    input_padded = tf.convert_to_tensor(input_padded, dtype=tf.int32)\n",
        "    print(input_padded)\n",
        "\n",
        "    start_token = [1]\n",
        "    decoder_input = tf.keras.preprocessing.sequence.pad_sequences(\n",
        "        [start_token],\n",
        "        maxlen=max_len,\n",
        "        padding='post',\n",
        "        value=0\n",
        "    )\n",
        "    decoder_input = tf.convert_to_tensor(decoder_input, dtype=tf.int32)\n",
        "\n",
        "    predicted_sentence = []\n",
        "\n",
        "    # prediction = model.predict([input_padded, decoder_input])\n",
        "    # print(prediction)\n",
        "\n",
        "    # for i in range(max_len):\n",
        "    #   next_token = np.argmax(prediction[0][i])\n",
        "    #   print(next_token)\n",
        "\n",
        "    #   predicted_sentence.append(next_token)\n",
        "\n",
        "    # translated_sentence = tokenizer_en.detokenize(predicted_sentence)\n",
        "    # return translated_sentence\n",
        "\n",
        "    for _ in range(max_len):\n",
        "        prediction = model.predict([input_padded, decoder_input])\n",
        "        print(prediction)\n",
        "        print(len(prediction[0]))\n",
        "        next_token = np.argmax(prediction[:, -1, :], axis=-1)[0]\n",
        "\n",
        "        decoder_input[0][-1] = next_token\n",
        "\n",
        "        if next_token == 2:\n",
        "            break\n",
        "\n",
        "        predicted_sentence.append(next_token)\n",
        "\n",
        "    print(predicted_sentence)\n",
        "\n",
        "    if predicted_sentence:\n",
        "        predicted_sentence = np.array(predicted_sentence).reshape(1, -1)  # Reshape to 2D\n",
        "    else:\n",
        "        predicted_sentence = np.array([]).reshape(1, 0)  # Handle empty case\n",
        "\n",
        "    translated_sentence = tokenizer_en.detokenize(predicted_sentence)\n",
        "\n",
        "    return translated_sentence\n"
      ],
      "metadata": {
        "execution": {
          "iopub.status.busy": "2024-11-10T16:40:38.871567Z",
          "iopub.execute_input": "2024-11-10T16:40:38.872024Z",
          "iopub.status.idle": "2024-11-10T16:40:38.883193Z",
          "shell.execute_reply.started": "2024-11-10T16:40:38.871979Z",
          "shell.execute_reply": "2024-11-10T16:40:38.882475Z"
        },
        "trusted": true,
        "id": "TVaadmRS-WE4"
      },
      "execution_count": null,
      "outputs": []
    },
    {
      "cell_type": "code",
      "source": [
        "model.save('t1_gita.keras')"
      ],
      "metadata": {
        "execution": {
          "iopub.status.busy": "2024-11-10T16:40:38.887746Z",
          "iopub.execute_input": "2024-11-10T16:40:38.888041Z",
          "iopub.status.idle": "2024-11-10T16:40:39.281442Z",
          "shell.execute_reply.started": "2024-11-10T16:40:38.888008Z",
          "shell.execute_reply": "2024-11-10T16:40:39.280616Z"
        },
        "trusted": true,
        "id": "M_ucsKZN-WE4"
      },
      "execution_count": null,
      "outputs": []
    },
    {
      "cell_type": "code",
      "source": [
        "import tensorflow as tf\n",
        "print(tf.__version__)\n"
      ],
      "metadata": {
        "execution": {
          "iopub.status.busy": "2024-11-10T16:40:39.282669Z",
          "iopub.execute_input": "2024-11-10T16:40:39.28299Z",
          "iopub.status.idle": "2024-11-10T16:40:39.288142Z",
          "shell.execute_reply.started": "2024-11-10T16:40:39.282955Z",
          "shell.execute_reply": "2024-11-10T16:40:39.287081Z"
        },
        "trusted": true,
        "id": "k5_BX8cM-WE5",
        "colab": {
          "base_uri": "https://localhost:8080/"
        },
        "outputId": "ffc42bc1-b410-4695-f0aa-62263af25e17"
      },
      "execution_count": null,
      "outputs": [
        {
          "output_type": "stream",
          "name": "stdout",
          "text": [
            "2.17.0\n"
          ]
        }
      ]
    },
    {
      "cell_type": "code",
      "source": [
        "from tensorflow.keras.models import load_model\n",
        "# input_sentence = 'आत्मवान् को जितक्रोधो द्युतिमान् कोऽनसूयकः। कस्य बिभ्यति देवाश्च जातरोषस्य संयुगे॥'\n",
        "# input_sentence=' '.join(list(input_sentence))\n",
        "input_sentence = \"अगच्छत्\"\n",
        "input_sentence = tokenize_char(input_sentence)\n",
        "print(input_sentence)\n",
        "m1=load_model('t1_gita.keras')\n",
        "translated = predict_translation(input_sentence, tokenizer_sn, tokenizer_en, m1)\n",
        "print(translated)\n"
      ],
      "metadata": {
        "execution": {
          "iopub.status.busy": "2024-11-10T16:40:39.289315Z",
          "iopub.execute_input": "2024-11-10T16:40:39.28968Z",
          "iopub.status.idle": "2024-11-10T16:40:54.572822Z",
          "shell.execute_reply.started": "2024-11-10T16:40:39.289646Z",
          "shell.execute_reply": "2024-11-10T16:40:54.571835Z"
        },
        "trusted": true,
        "id": "tTDpo6Ty-WE5",
        "colab": {
          "base_uri": "https://localhost:8080/",
          "height": 1000
        },
        "outputId": "932833bc-3504-42f2-c976-911bb3a4f683"
      },
      "execution_count": null,
      "outputs": [
        {
          "output_type": "stream",
          "name": "stdout",
          "text": [
            "अ ग च ् छ त ्\n",
            "<tf.RaggedTensor [[[10],\n",
            "  [24],\n",
            "  [27],\n",
            "  [67],\n",
            "  [28],\n",
            "  [37],\n",
            "  [67]]]>\n",
            "tf.Tensor(\n",
            "[[[10]\n",
            "  [24]\n",
            "  [27]\n",
            "  [67]\n",
            "  [28]\n",
            "  [37]\n",
            "  [67]\n",
            "  [ 0]\n",
            "  [ 0]\n",
            "  [ 0]\n",
            "  [ 0]\n",
            "  [ 0]\n",
            "  [ 0]\n",
            "  [ 0]\n",
            "  [ 0]\n",
            "  [ 0]\n",
            "  [ 0]\n",
            "  [ 0]\n",
            "  [ 0]\n",
            "  [ 0]\n",
            "  [ 0]\n",
            "  [ 0]\n",
            "  [ 0]\n",
            "  [ 0]\n",
            "  [ 0]\n",
            "  [ 0]\n",
            "  [ 0]\n",
            "  [ 0]\n",
            "  [ 0]\n",
            "  [ 0]\n",
            "  [ 0]\n",
            "  [ 0]\n",
            "  [ 0]\n",
            "  [ 0]\n",
            "  [ 0]\n",
            "  [ 0]\n",
            "  [ 0]\n",
            "  [ 0]\n",
            "  [ 0]\n",
            "  [ 0]\n",
            "  [ 0]\n",
            "  [ 0]\n",
            "  [ 0]\n",
            "  [ 0]\n",
            "  [ 0]\n",
            "  [ 0]\n",
            "  [ 0]\n",
            "  [ 0]\n",
            "  [ 0]\n",
            "  [ 0]]], shape=(1, 50, 1), dtype=int32)\n",
            "\u001b[1m1/1\u001b[0m \u001b[32m━━━━━━━━━━━━━━━━━━━━\u001b[0m\u001b[37m\u001b[0m \u001b[1m1s\u001b[0m 1s/step\n",
            "[[[9.9999940e-01 4.0803934e-09 6.2104153e-09 ... 6.3016936e-10\n",
            "   9.9444653e-10 2.5292199e-08]\n",
            "  [9.9999940e-01 4.0807979e-09 6.2121095e-09 ... 6.3037853e-10\n",
            "   9.9461539e-10 2.5289451e-08]\n",
            "  [9.9999940e-01 4.0807979e-09 6.2121095e-09 ... 6.3037853e-10\n",
            "   9.9461539e-10 2.5289451e-08]\n",
            "  ...\n",
            "  [9.9999940e-01 4.0807979e-09 6.2121095e-09 ... 6.3037853e-10\n",
            "   9.9461539e-10 2.5289451e-08]\n",
            "  [9.9999940e-01 4.0807979e-09 6.2121095e-09 ... 6.3037853e-10\n",
            "   9.9461539e-10 2.5289451e-08]\n",
            "  [9.9999940e-01 4.0807979e-09 6.2121095e-09 ... 6.3037853e-10\n",
            "   9.9461539e-10 2.5289451e-08]]]\n",
            "50\n"
          ]
        },
        {
          "output_type": "error",
          "ename": "TypeError",
          "evalue": "'tensorflow.python.framework.ops.EagerTensor' object does not support item assignment",
          "traceback": [
            "\u001b[0;31m---------------------------------------------------------------------------\u001b[0m",
            "\u001b[0;31mTypeError\u001b[0m                                 Traceback (most recent call last)",
            "\u001b[0;32m<ipython-input-34-a4784ae440a8>\u001b[0m in \u001b[0;36m<cell line: 8>\u001b[0;34m()\u001b[0m\n\u001b[1;32m      6\u001b[0m \u001b[0mprint\u001b[0m\u001b[0;34m(\u001b[0m\u001b[0minput_sentence\u001b[0m\u001b[0;34m)\u001b[0m\u001b[0;34m\u001b[0m\u001b[0;34m\u001b[0m\u001b[0m\n\u001b[1;32m      7\u001b[0m \u001b[0mm1\u001b[0m\u001b[0;34m=\u001b[0m\u001b[0mload_model\u001b[0m\u001b[0;34m(\u001b[0m\u001b[0;34m't1_gita.keras'\u001b[0m\u001b[0;34m)\u001b[0m\u001b[0;34m\u001b[0m\u001b[0;34m\u001b[0m\u001b[0m\n\u001b[0;32m----> 8\u001b[0;31m \u001b[0mtranslated\u001b[0m \u001b[0;34m=\u001b[0m \u001b[0mpredict_translation\u001b[0m\u001b[0;34m(\u001b[0m\u001b[0minput_sentence\u001b[0m\u001b[0;34m,\u001b[0m \u001b[0mtokenizer_sn\u001b[0m\u001b[0;34m,\u001b[0m \u001b[0mtokenizer_en\u001b[0m\u001b[0;34m,\u001b[0m \u001b[0mm1\u001b[0m\u001b[0;34m)\u001b[0m\u001b[0;34m\u001b[0m\u001b[0;34m\u001b[0m\u001b[0m\n\u001b[0m\u001b[1;32m      9\u001b[0m \u001b[0mprint\u001b[0m\u001b[0;34m(\u001b[0m\u001b[0mtranslated\u001b[0m\u001b[0;34m)\u001b[0m\u001b[0;34m\u001b[0m\u001b[0;34m\u001b[0m\u001b[0m\n",
            "\u001b[0;32m<ipython-input-30-41c0af96acaa>\u001b[0m in \u001b[0;36mpredict_translation\u001b[0;34m(input_sentence, tokenizer_sn, tokenizer_en, model, max_len)\u001b[0m\n\u001b[1;32m     43\u001b[0m         \u001b[0mnext_token\u001b[0m \u001b[0;34m=\u001b[0m \u001b[0mnp\u001b[0m\u001b[0;34m.\u001b[0m\u001b[0margmax\u001b[0m\u001b[0;34m(\u001b[0m\u001b[0mprediction\u001b[0m\u001b[0;34m[\u001b[0m\u001b[0;34m:\u001b[0m\u001b[0;34m,\u001b[0m \u001b[0;34m-\u001b[0m\u001b[0;36m1\u001b[0m\u001b[0;34m,\u001b[0m \u001b[0;34m:\u001b[0m\u001b[0;34m]\u001b[0m\u001b[0;34m,\u001b[0m \u001b[0maxis\u001b[0m\u001b[0;34m=\u001b[0m\u001b[0;34m-\u001b[0m\u001b[0;36m1\u001b[0m\u001b[0;34m)\u001b[0m\u001b[0;34m[\u001b[0m\u001b[0;36m0\u001b[0m\u001b[0;34m]\u001b[0m\u001b[0;34m\u001b[0m\u001b[0;34m\u001b[0m\u001b[0m\n\u001b[1;32m     44\u001b[0m \u001b[0;34m\u001b[0m\u001b[0m\n\u001b[0;32m---> 45\u001b[0;31m         \u001b[0mdecoder_input\u001b[0m\u001b[0;34m[\u001b[0m\u001b[0;36m0\u001b[0m\u001b[0;34m]\u001b[0m\u001b[0;34m[\u001b[0m\u001b[0;34m-\u001b[0m\u001b[0;36m1\u001b[0m\u001b[0;34m]\u001b[0m \u001b[0;34m=\u001b[0m \u001b[0mnext_token\u001b[0m\u001b[0;34m\u001b[0m\u001b[0;34m\u001b[0m\u001b[0m\n\u001b[0m\u001b[1;32m     46\u001b[0m \u001b[0;34m\u001b[0m\u001b[0m\n\u001b[1;32m     47\u001b[0m         \u001b[0;32mif\u001b[0m \u001b[0mnext_token\u001b[0m \u001b[0;34m==\u001b[0m \u001b[0;36m2\u001b[0m\u001b[0;34m:\u001b[0m\u001b[0;34m\u001b[0m\u001b[0;34m\u001b[0m\u001b[0m\n",
            "\u001b[0;31mTypeError\u001b[0m: 'tensorflow.python.framework.ops.EagerTensor' object does not support item assignment"
          ]
        }
      ]
    },
    {
      "cell_type": "code",
      "source": [],
      "metadata": {
        "id": "gWaJa6wdTRD9"
      },
      "execution_count": null,
      "outputs": []
    }
  ]
}
