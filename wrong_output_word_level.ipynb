{
  "nbformat": 4,
  "nbformat_minor": 0,
  "metadata": {
    "colab": {
      "provenance": []
    },
    "kernelspec": {
      "name": "python3",
      "display_name": "Python 3"
    },
    "language_info": {
      "name": "python"
    }
  },
  "cells": [
    {
      "cell_type": "code",
      "execution_count": 13,
      "metadata": {
        "colab": {
          "base_uri": "https://localhost:8080/"
        },
        "id": "dNMrSNvdnx_4",
        "outputId": "b3d2fbf0-d916-4f42-8c26-66e769525b6b"
      },
      "outputs": [
        {
          "output_type": "stream",
          "name": "stdout",
          "text": [
            "Epoch 1/20\n",
            "23/23 [==============================] - 16s 259ms/step - loss: 7.0177 - val_loss: 6.7155\n",
            "Epoch 2/20\n",
            "23/23 [==============================] - 2s 75ms/step - loss: 4.7735 - val_loss: 2.7433\n",
            "Epoch 3/20\n",
            "23/23 [==============================] - 2s 71ms/step - loss: 0.2720 - val_loss: 1.2772\n",
            "Epoch 4/20\n",
            "23/23 [==============================] - 2s 70ms/step - loss: 0.1665 - val_loss: 1.2202\n",
            "Epoch 5/20\n",
            "23/23 [==============================] - 2s 71ms/step - loss: 0.1128 - val_loss: 1.2059\n",
            "Epoch 6/20\n",
            "23/23 [==============================] - 2s 71ms/step - loss: 0.0971 - val_loss: 1.1741\n",
            "Epoch 7/20\n",
            "23/23 [==============================] - 2s 109ms/step - loss: 0.0982 - val_loss: 1.1510\n",
            "Epoch 8/20\n",
            "23/23 [==============================] - 2s 74ms/step - loss: 0.0911 - val_loss: 1.1541\n",
            "Epoch 9/20\n",
            "23/23 [==============================] - 2s 72ms/step - loss: 0.0901 - val_loss: 1.1693\n",
            "Epoch 10/20\n",
            "23/23 [==============================] - 2s 78ms/step - loss: 0.0853 - val_loss: 1.1748\n",
            "Epoch 11/20\n",
            "23/23 [==============================] - 2s 80ms/step - loss: 0.0801 - val_loss: 1.1837\n",
            "Epoch 12/20\n",
            "23/23 [==============================] - 2s 70ms/step - loss: 0.0785 - val_loss: 1.1700\n",
            "Epoch 13/20\n",
            "23/23 [==============================] - 2s 72ms/step - loss: 0.0797 - val_loss: 1.1690\n",
            "Epoch 14/20\n",
            "23/23 [==============================] - 3s 111ms/step - loss: 0.0770 - val_loss: 1.1708\n",
            "Epoch 15/20\n",
            "23/23 [==============================] - 2s 81ms/step - loss: 0.0758 - val_loss: 1.1487\n",
            "Epoch 16/20\n",
            "23/23 [==============================] - 2s 76ms/step - loss: 0.0757 - val_loss: 1.1446\n",
            "Epoch 17/20\n",
            "23/23 [==============================] - 2s 70ms/step - loss: 0.0741 - val_loss: 1.1447\n",
            "Epoch 18/20\n",
            "23/23 [==============================] - 2s 71ms/step - loss: 0.0723 - val_loss: 1.1384\n",
            "Epoch 19/20\n",
            "23/23 [==============================] - 2s 69ms/step - loss: 0.0728 - val_loss: 1.1326\n",
            "Epoch 20/20\n",
            "23/23 [==============================] - 2s 73ms/step - loss: 0.0689 - val_loss: 1.1302\n"
          ]
        },
        {
          "output_type": "stream",
          "name": "stderr",
          "text": [
            "/usr/local/lib/python3.10/dist-packages/keras/src/engine/training.py:3103: UserWarning: You are saving your model as an HDF5 file via `model.save()`. This file format is considered legacy. We recommend using instead the native Keras format, e.g. `model.save('my_model.keras')`.\n",
            "  saving_api.save_model(\n"
          ]
        }
      ],
      "source": [
        "import numpy as np\n",
        "import pandas as pd\n",
        "from tensorflow.keras.models import Model\n",
        "from tensorflow.keras.layers import Input, LSTM, Dense, Embedding\n",
        "from sklearn.model_selection import train_test_split\n",
        "from tensorflow.keras.preprocessing.text import Tokenizer\n",
        "from tensorflow.keras.preprocessing.sequence import pad_sequences\n",
        "\n",
        "# Load the dataset\n",
        "data = pd.read_excel('/content/dict.xlsx')\n",
        "\n",
        "# Preprocess the data\n",
        "english_sentences = data['English'].values\n",
        "sanskrit_sentences = data['Sanskrit'].values\n",
        "\n",
        "# Tokenize input sequences\n",
        "english_tokenizer = Tokenizer()\n",
        "english_tokenizer.fit_on_texts(english_sentences)\n",
        "english_vocab_size = len(english_tokenizer.word_index) + 1\n",
        "english_max_len = max([len(sentence.split()) for sentence in english_sentences])\n",
        "english_sequences = english_tokenizer.texts_to_sequences(english_sentences)\n",
        "english_padded_sequences = pad_sequences(english_sequences, maxlen=english_max_len, padding='post')\n",
        "\n",
        "# Tokenize target sequences\n",
        "sanskrit_tokenizer = Tokenizer()\n",
        "sanskrit_tokenizer.fit_on_texts(sanskrit_sentences)\n",
        "sanskrit_vocab_size = len(sanskrit_tokenizer.word_index) + 1\n",
        "sanskrit_max_len = max([len(sentence.split()) for sentence in sanskrit_sentences])\n",
        "sanskrit_sequences = sanskrit_tokenizer.texts_to_sequences(sanskrit_sentences)\n",
        "sanskrit_padded_sequences = pad_sequences(sanskrit_sequences, maxlen=sanskrit_max_len, padding='post')\n",
        "\n",
        "# Define the model architecture\n",
        "latent_dim = 256\n",
        "\n",
        "# Encoder\n",
        "encoder_inputs = Input(shape=(english_max_len,))\n",
        "encoder_embedding = Embedding(english_vocab_size, latent_dim, mask_zero=True)(encoder_inputs)\n",
        "encoder_lstm = LSTM(latent_dim, return_sequences=True, return_state=True)\n",
        "encoder_outputs, state_h, state_c = encoder_lstm(encoder_embedding)\n",
        "encoder_states = [state_h, state_c]\n",
        "\n",
        "# Decoder\n",
        "decoder_inputs = Input(shape=(None,))\n",
        "decoder_embedding = Embedding(sanskrit_vocab_size, latent_dim, mask_zero=True)(decoder_inputs)\n",
        "decoder_lstm = LSTM(latent_dim, return_sequences=True, return_state=True)\n",
        "decoder_outputs, _, _ = decoder_lstm(decoder_embedding, initial_state=encoder_states)\n",
        "decoder_dense = Dense(sanskrit_vocab_size, activation='softmax')\n",
        "decoder_outputs = decoder_dense(decoder_outputs)\n",
        "\n",
        "# Compile the model\n",
        "model = Model([encoder_inputs, decoder_inputs], decoder_outputs)\n",
        "model.compile(optimizer='adam', loss='sparse_categorical_crossentropy')\n",
        "\n",
        "# Split the data into training and validation sets\n",
        "X_train, X_val, y_train, y_val = train_test_split(english_padded_sequences, sanskrit_padded_sequences, test_size=0.1, random_state=42)\n",
        "\n",
        "# Train the model\n",
        "model.fit([X_train, y_train[:, :-1]], y_train[:, 1:], validation_data=([X_val, y_val[:, :-1]], y_val[:, 1:]), batch_size=64, epochs=20)\n",
        "\n",
        "# Save the trained model\n",
        "model.save('english_to_sanskrit_translation_model.h5')\n",
        "\n",
        "# Save the tokenizers\n",
        "import pickle\n",
        "with open('english_tokenizer.pickle', 'wb') as handle:\n",
        "    pickle.dump(english_tokenizer, handle, protocol=pickle.HIGHEST_PROTOCOL)\n",
        "\n",
        "with open('sanskrit_tokenizer.pickle', 'wb') as handle:\n",
        "    pickle.dump(sanskrit_tokenizer, handle, protocol=pickle.HIGHEST_PROTOCOL)\n"
      ]
    },
    {
      "cell_type": "code",
      "source": [
        "import numpy as np\n",
        "import pickle\n",
        "from tensorflow.keras.models import load_model\n",
        "from tensorflow.keras.preprocessing.sequence import pad_sequences\n",
        "\n",
        "# Load the trained model\n",
        "model = load_model('english_to_sanskrit_translation_model.h5')\n",
        "\n",
        "# Load the tokenizers\n",
        "with open('english_tokenizer.pickle', 'rb') as handle:\n",
        "    english_tokenizer = pickle.load(handle)\n",
        "\n",
        "with open('sanskrit_tokenizer.pickle', 'rb') as handle:\n",
        "    sanskrit_tokenizer = pickle.load(handle)\n",
        "\n",
        "# Define a function for translation\n",
        "def translate_sentence(sentence):\n",
        "    # Tokenize the input sentence\n",
        "    seq = english_tokenizer.texts_to_sequences([sentence])\n",
        "    padded_seq = pad_sequences(seq, maxlen=english_max_len, padding='post')\n",
        "\n",
        "    # Initialize the decoder input sequence with zeros\n",
        "    decoder_input = np.zeros((1, 1))\n",
        "\n",
        "    # Decode the input sequence\n",
        "    output_sentence = []\n",
        "    for _ in range(sanskrit_max_len):\n",
        "        output_tokens = model.predict([padded_seq, decoder_input])\n",
        "        token_index = np.argmax(output_tokens[0, -1, :])\n",
        "        if token_index == 0:  # Padding token\n",
        "            break\n",
        "        output_sentence.append(sanskrit_tokenizer.index_word[token_index])\n",
        "\n",
        "        # Update decoder input with predicted token for next iteration\n",
        "        decoder_input[0, 0] = token_index\n",
        "\n",
        "    return ' '.join(output_sentence)\n",
        "\n",
        "# Example translation\n",
        "english_sentence = \"thought\"\n",
        "translated_sentence = translate_sentence(english_sentence)\n",
        "print(\"Translated Sentence:\", translated_sentence)\n",
        "\n"
      ],
      "metadata": {
        "colab": {
          "base_uri": "https://localhost:8080/"
        },
        "id": "a1Jo64z9oxzR",
        "outputId": "e2dc2267-4144-4e45-f226-05dd81a2505e"
      },
      "execution_count": 22,
      "outputs": [
        {
          "output_type": "stream",
          "name": "stderr",
          "text": [
            "WARNING:tensorflow:5 out of the last 9 calls to <function Model.make_predict_function.<locals>.predict_function at 0x78fdf6714e50> triggered tf.function retracing. Tracing is expensive and the excessive number of tracings could be due to (1) creating @tf.function repeatedly in a loop, (2) passing tensors with different shapes, (3) passing Python objects instead of tensors. For (1), please define your @tf.function outside of the loop. For (2), @tf.function has reduce_retracing=True option that can avoid unnecessary retracing. For (3), please refer to https://www.tensorflow.org/guide/function#controlling_retracing and https://www.tensorflow.org/api_docs/python/tf/function for  more details.\n"
          ]
        },
        {
          "output_type": "stream",
          "name": "stdout",
          "text": [
            "1/1 [==============================] - 3s 3s/step\n",
            "1/1 [==============================] - 0s 31ms/step\n",
            "Translated Sentence: करोति\n"
          ]
        }
      ]
    },
    {
      "cell_type": "code",
      "source": [],
      "metadata": {
        "id": "MhrhiQjXtwUI"
      },
      "execution_count": null,
      "outputs": []
    }
  ]
}